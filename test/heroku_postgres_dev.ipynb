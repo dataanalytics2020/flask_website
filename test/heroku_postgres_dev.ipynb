{
 "cells": [
  {
   "cell_type": "code",
   "execution_count": null,
   "metadata": {},
   "outputs": [],
   "source": [
    "import psycopg2\n",
    "\n",
    "# 設定値\n",
    "users = 'AAAA'     # DBにアクセスするユーザー名(適宜変更)\n",
    "dbnames = 'BBBB'   # 接続するデータベース名(適宜変更)\n",
    "passwords = 'CCCC' # DBにアクセスするユーザーのパスワード(適宜変更)\n",
    "host = \"DDDD\"      # DBが稼働しているホスト名(適宜変更)\n",
    "port = 5432        # DBが稼働しているポート番号(適宜変更)\n",
    "\n",
    "# PostgreSQLへ接続\n",
    "conn = psycopg2.connect(\"user=\" + users +\" dbname=\" + dbnames +\" password=\" + passwords, host=host, port=port)\n",
    "\n",
    "# PostgreSQLにデータ登録\n",
    "cur = conn.cursor()\n",
    "cur.execute(\"INSERT INTO mymovie VALUES (2, 'b')\")\n",
    "conn.commit()\n",
    "cur.close()\n",
    "\n",
    "# PostgreSQLの接続を終了\n",
    "conn.close()\n",
    "print(\"finish\")"
   ]
  }
 ],
 "metadata": {
  "language_info": {
   "name": "python"
  },
  "orig_nbformat": 4
 },
 "nbformat": 4,
 "nbformat_minor": 2
}
