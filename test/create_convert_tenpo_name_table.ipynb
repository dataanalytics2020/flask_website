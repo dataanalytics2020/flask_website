{
 "cells": [
  {
   "cell_type": "markdown",
   "metadata": {},
   "source": [
    "### 店舗名変換テーブルの作成"
   ]
  },
  {
   "cell_type": "code",
   "execution_count": 1,
   "metadata": {},
   "outputs": [
    {
     "data": {
      "text/plain": [
       "True"
      ]
     },
     "execution_count": 1,
     "metadata": {},
     "output_type": "execute_result"
    }
   ],
   "source": [
    "import psycopg2\n",
    "import os\n",
    "from dotenv import load_dotenv\n",
    "import pandas as pd\n",
    "load_dotenv()\n",
    "\n",
    "users = os.getenv('HEROKU_PSGR_USER')    # DBにアクセスするユーザー名(適宜変更)\n",
    "dbnames = os.getenv('HEROKU_PSGR_DATABASE')   # 接続するデータベース名(適宜変更)\n",
    "passwords = os.getenv('HEROKU_PSGR_PASSWORD')  # DBにアクセスするユーザーのパスワード(適宜変更)\n",
    "host = os.getenv('HEROKU_PSGR_HOST')     # DBが稼働しているホスト名(適宜変更)\n",
    "port = 5432        # DBが稼働しているポート番号(適宜変更)\n",
    "\n",
    "# PostgreSQLへ接続\n",
    "conn = psycopg2.connect(\"user=\" + users +\" dbname=\" + dbnames +\" password=\" + passwords, host=host, port=port)\n",
    "\n",
    "# カーソルを取得する\n",
    "cursor = conn.cursor()\n",
    "\n",
    "#自動コミットモードにする\n",
    "conn.autocommit = True\n",
    "conn.autocommit"
   ]
  },
  {
   "cell_type": "code",
   "execution_count": 165,
   "metadata": {},
   "outputs": [
    {
     "data": {
      "text/html": [
       "<div>\n",
       "<style scoped>\n",
       "    .dataframe tbody tr th:only-of-type {\n",
       "        vertical-align: middle;\n",
       "    }\n",
       "\n",
       "    .dataframe tbody tr th {\n",
       "        vertical-align: top;\n",
       "    }\n",
       "\n",
       "    .dataframe thead th {\n",
       "        text-align: right;\n",
       "    }\n",
       "</style>\n",
       "<table border=\"1\" class=\"dataframe\">\n",
       "  <thead>\n",
       "    <tr style=\"text-align: right;\">\n",
       "      <th></th>\n",
       "      <th>店舗名／法人名</th>\n",
       "      <th>都道府県</th>\n",
       "      <th>緯度</th>\n",
       "      <th>経度</th>\n",
       "    </tr>\n",
       "  </thead>\n",
       "  <tbody>\n",
       "    <tr>\n",
       "      <th>0</th>\n",
       "      <td>ひまわり北上店</td>\n",
       "      <td>岩手県</td>\n",
       "      <td>None</td>\n",
       "      <td>None</td>\n",
       "    </tr>\n",
       "    <tr>\n",
       "      <th>1</th>\n",
       "      <td>グランキコーナ泉佐野店</td>\n",
       "      <td>大阪府</td>\n",
       "      <td>None</td>\n",
       "      <td>None</td>\n",
       "    </tr>\n",
       "    <tr>\n",
       "      <th>2</th>\n",
       "      <td>パチンコジャンボ</td>\n",
       "      <td></td>\n",
       "      <td>None</td>\n",
       "      <td>None</td>\n",
       "    </tr>\n",
       "    <tr>\n",
       "      <th>3</th>\n",
       "      <td>APAN CLUB トガリ店</td>\n",
       "      <td>愛知県</td>\n",
       "      <td>None</td>\n",
       "      <td>None</td>\n",
       "    </tr>\n",
       "    <tr>\n",
       "      <th>4</th>\n",
       "      <td>メガガイア上越</td>\n",
       "      <td>新潟県</td>\n",
       "      <td>None</td>\n",
       "      <td>None</td>\n",
       "    </tr>\n",
       "    <tr>\n",
       "      <th>...</th>\n",
       "      <td>...</td>\n",
       "      <td>...</td>\n",
       "      <td>...</td>\n",
       "      <td>...</td>\n",
       "    </tr>\n",
       "    <tr>\n",
       "      <th>208</th>\n",
       "      <td>トキワホール</td>\n",
       "      <td></td>\n",
       "      <td>None</td>\n",
       "      <td>None</td>\n",
       "    </tr>\n",
       "    <tr>\n",
       "      <th>209</th>\n",
       "      <td>パーラーデルダス</td>\n",
       "      <td></td>\n",
       "      <td>None</td>\n",
       "      <td>None</td>\n",
       "    </tr>\n",
       "    <tr>\n",
       "      <th>210</th>\n",
       "      <td>Super D’station前橋大利根店</td>\n",
       "      <td>群馬県</td>\n",
       "      <td>None</td>\n",
       "      <td>None</td>\n",
       "    </tr>\n",
       "    <tr>\n",
       "      <th>211</th>\n",
       "      <td>yout小牧店</td>\n",
       "      <td>愛知県</td>\n",
       "      <td>None</td>\n",
       "      <td>None</td>\n",
       "    </tr>\n",
       "    <tr>\n",
       "      <th>212</th>\n",
       "      <td>ガーデン松戸金ケ作</td>\n",
       "      <td></td>\n",
       "      <td>None</td>\n",
       "      <td>None</td>\n",
       "    </tr>\n",
       "  </tbody>\n",
       "</table>\n",
       "<p>213 rows × 4 columns</p>\n",
       "</div>"
      ],
      "text/plain": [
       "                   店舗名／法人名 都道府県    緯度    経度\n",
       "0                  ひまわり北上店  岩手県  None  None\n",
       "1              グランキコーナ泉佐野店  大阪府  None  None\n",
       "2                 パチンコジャンボ       None  None\n",
       "3           APAN CLUB トガリ店  愛知県  None  None\n",
       "4                  メガガイア上越  新潟県  None  None\n",
       "..                     ...  ...   ...   ...\n",
       "208                 トキワホール       None  None\n",
       "209               パーラーデルダス       None  None\n",
       "210  Super D’station前橋大利根店  群馬県  None  None\n",
       "211                yout小牧店  愛知県  None  None\n",
       "212              ガーデン松戸金ケ作       None  None\n",
       "\n",
       "[213 rows x 4 columns]"
      ]
     },
     "execution_count": 165,
     "metadata": {},
     "output_type": "execute_result"
    }
   ],
   "source": [
    "cursor.execute('''SELECT 店舗名／法人名, 都道府県,  緯度, 経度\n",
    "               FROM tenpo_master\n",
    "               WHERE 経度 is NULL ''')\n",
    "cols = [col.name for col in cursor.description]\n",
    "non_latitune_df = pd.DataFrame(cursor.fetchall(),columns=cols)\n",
    "non_latitune_df"
   ]
  },
  {
   "cell_type": "code",
   "execution_count": 166,
   "metadata": {},
   "outputs": [
    {
     "data": {
      "text/html": [
       "<div>\n",
       "<style scoped>\n",
       "    .dataframe tbody tr th:only-of-type {\n",
       "        vertical-align: middle;\n",
       "    }\n",
       "\n",
       "    .dataframe tbody tr th {\n",
       "        vertical-align: top;\n",
       "    }\n",
       "\n",
       "    .dataframe thead th {\n",
       "        text-align: right;\n",
       "    }\n",
       "</style>\n",
       "<table border=\"1\" class=\"dataframe\">\n",
       "  <thead>\n",
       "    <tr style=\"text-align: right;\">\n",
       "      <th></th>\n",
       "      <th>店舗名／法人名</th>\n",
       "      <th>都道府県</th>\n",
       "      <th>緯度</th>\n",
       "      <th>経度</th>\n",
       "    </tr>\n",
       "  </thead>\n",
       "  <tbody>\n",
       "    <tr>\n",
       "      <th>0</th>\n",
       "      <td>ひまわり北上店</td>\n",
       "      <td>岩手県</td>\n",
       "      <td>None</td>\n",
       "      <td>None</td>\n",
       "    </tr>\n",
       "    <tr>\n",
       "      <th>1</th>\n",
       "      <td>グランキコーナ泉佐野店</td>\n",
       "      <td>大阪府</td>\n",
       "      <td>None</td>\n",
       "      <td>None</td>\n",
       "    </tr>\n",
       "    <tr>\n",
       "      <th>2</th>\n",
       "      <td>パチンコジャンボ</td>\n",
       "      <td></td>\n",
       "      <td>None</td>\n",
       "      <td>None</td>\n",
       "    </tr>\n",
       "    <tr>\n",
       "      <th>3</th>\n",
       "      <td>APAN CLUB トガリ店</td>\n",
       "      <td>愛知県</td>\n",
       "      <td>None</td>\n",
       "      <td>None</td>\n",
       "    </tr>\n",
       "    <tr>\n",
       "      <th>4</th>\n",
       "      <td>メガガイア上越</td>\n",
       "      <td>新潟県</td>\n",
       "      <td>None</td>\n",
       "      <td>None</td>\n",
       "    </tr>\n",
       "    <tr>\n",
       "      <th>...</th>\n",
       "      <td>...</td>\n",
       "      <td>...</td>\n",
       "      <td>...</td>\n",
       "      <td>...</td>\n",
       "    </tr>\n",
       "    <tr>\n",
       "      <th>208</th>\n",
       "      <td>トキワホール</td>\n",
       "      <td></td>\n",
       "      <td>None</td>\n",
       "      <td>None</td>\n",
       "    </tr>\n",
       "    <tr>\n",
       "      <th>209</th>\n",
       "      <td>パーラーデルダス</td>\n",
       "      <td></td>\n",
       "      <td>None</td>\n",
       "      <td>None</td>\n",
       "    </tr>\n",
       "    <tr>\n",
       "      <th>210</th>\n",
       "      <td>Super D’station前橋大利根店</td>\n",
       "      <td>群馬県</td>\n",
       "      <td>None</td>\n",
       "      <td>None</td>\n",
       "    </tr>\n",
       "    <tr>\n",
       "      <th>211</th>\n",
       "      <td>yout小牧店</td>\n",
       "      <td>愛知県</td>\n",
       "      <td>None</td>\n",
       "      <td>None</td>\n",
       "    </tr>\n",
       "    <tr>\n",
       "      <th>212</th>\n",
       "      <td>ガーデン松戸金ケ作</td>\n",
       "      <td></td>\n",
       "      <td>None</td>\n",
       "      <td>None</td>\n",
       "    </tr>\n",
       "  </tbody>\n",
       "</table>\n",
       "<p>213 rows × 4 columns</p>\n",
       "</div>"
      ],
      "text/plain": [
       "                   店舗名／法人名 都道府県    緯度    経度\n",
       "0                  ひまわり北上店  岩手県  None  None\n",
       "1              グランキコーナ泉佐野店  大阪府  None  None\n",
       "2                 パチンコジャンボ       None  None\n",
       "3           APAN CLUB トガリ店  愛知県  None  None\n",
       "4                  メガガイア上越  新潟県  None  None\n",
       "..                     ...  ...   ...   ...\n",
       "208                 トキワホール       None  None\n",
       "209               パーラーデルダス       None  None\n",
       "210  Super D’station前橋大利根店  群馬県  None  None\n",
       "211                yout小牧店  愛知県  None  None\n",
       "212              ガーデン松戸金ケ作       None  None\n",
       "\n",
       "[213 rows x 4 columns]"
      ]
     },
     "execution_count": 166,
     "metadata": {},
     "output_type": "execute_result"
    }
   ],
   "source": [
    "non_latitune_df"
   ]
  },
  {
   "cell_type": "code",
   "execution_count": 163,
   "metadata": {},
   "outputs": [
    {
     "data": {
      "text/plain": [
       "{'Fkeiba木更津': IndexError('list index out of range'),\n",
       " 'プライムナンバーズ株式会社': IndexError('list index out of range'),\n",
       " '株式会社日本レジャーチャンネル': IndexError('list index out of range'),\n",
       " '株式会社アットワイズ': IndexError('list index out of range'),\n",
       " 'テスト樋口20190326': IndexError('list index out of range'),\n",
       " '株式会社PiDEA': IndexError('list index out of range'),\n",
       " 'サミー株式会社': IndexError('list index out of range'),\n",
       " '株式会社ニューギン販売': IndexError('list index out of range'),\n",
       " '株式会社エースプロ': IndexError('list index out of range'),\n",
       " 'ユニバーサルエンターテインメント': IndexError('list index out of range'),\n",
       " 'クリーク＆リバー社': IndexError('list index out of range'),\n",
       " '株式会社マルハン\\u3000東日本カンパニー': IndexError('list index out of range')}"
      ]
     },
     "execution_count": 163,
     "metadata": {},
     "output_type": "execute_result"
    }
   ],
   "source": [
    "hallnavi_scraping_error_tenpo_name_dict"
   ]
  },
  {
   "cell_type": "code",
   "execution_count": null,
   "metadata": {},
   "outputs": [],
   "source": [
    "import pandas as pd\n",
    "import requests\n",
    "import time\n",
    "from selenium import webdriver\n",
    "from selenium.common.exceptions import NoSuchElementException\n",
    "from webdriver_manager.chrome import ChromeDriverManager\n",
    "from selenium.webdriver.chrome.options import Options\n",
    "from selenium.webdriver.common.by import By\n",
    "from selenium.webdriver.common.keys import Keys\n",
    "hallnavi_scraping_error_tenpo_name_dict = {}\n",
    "res = requests.get('https://chromedriver.storage.googleapis.com/LATEST_RELEASE')\n",
    "options = Options()\n",
    "options.add_argument('--headless')\n",
    "browser = webdriver.Chrome(ChromeDriverManager(res.text).install(),options=options)\n",
    "serched_df_3 = pd.DataFrame(index=[], columns=[])\n",
    "hallnavi_tenpo_name_dict = {}\n",
    "serched_df = pd.DataFrame(columns=['dmm_tenpo_name', 'prefecture','hallnavi_tenpo_name', 'url', 'longtitude','latitude'],index=[]) \n",
    "\n",
    "i = 0\n",
    "for i,row in non_latitune_df.iterrows():\n",
    "    #try:\n",
    "    tenpo_name = row['店舗名／法人名']\n",
    "    prefecture = row['都道府県']\n",
    "    url = f\"https://www.google.com/search?q=ホールナビ  {tenpo_name} \"\n",
    "    #print(i,tenpo_name)\n",
    "    #print('データ取得中...30秒ほど時間がかかります。')\n",
    "    browser.get(url)\n",
    "    html = browser.page_source.encode('utf-8')\n",
    "    soup = BeautifulSoup(html,'html.parser')\n",
    "    class_group = soup.find_all(class_='yuRUbf')\n",
    "    #print(len(class_group))\n",
    "    # リンクとタイトル ,class_group is Noneを抽出しリストに追加するforループ\n",
    "    for elem in class_group:\n",
    "        # リンク\n",
    "        url = elem.a.attrs.get('href')\n",
    "        # タイトル\n",
    "        title = elem.a.h3.text.split('｜')[0]\n",
    "        print(title, url)\n",
    "        break\n",
    "    scraping_hallnavi_tenpo_name = title\n",
    "    browser.get(url)\n",
    "    \n",
    "    html = browser.page_source.encode('utf-8')\n",
    "    url_soup = BeautifulSoup(html,'html.parser')\n",
    "    try:\n",
    "        hallnavi_tenpo_name = url_soup.find_all(class_ = 'box_hole_view_hole_name')[0].text\n",
    "    except Exception as e:\n",
    "        hallnavi_scraping_error_tenpo_name_dict[tenpo_name] =  e\n",
    "        print('エラー店舗',tenpo_name,e)\n",
    "        continue\n",
    "        \n",
    "    dfs = pd.read_html(url)\n",
    "    for df in dfs:\n",
    "        try:\n",
    "            check_text = df[0][0]\n",
    "        except:\n",
    "            continue\n",
    "        if check_text == '店舗HP':\n",
    "            display(df)\n",
    "            break\n",
    "    try:\n",
    "        tenpo_adress = df[df[0] == '住所'][1].values[0]\n",
    "    except Exception as e:\n",
    "        hallnavi_scraping_error_tenpo_name_dict[tenpo_name] =  e\n",
    "        print('エラー店舗',tenpo_name,e)\n",
    "        continue\n",
    "    #print(tenpo_adress)\n",
    "\n",
    "    makeUrl = \"https://msearch.gsi.go.jp/address-search/AddressSearch?q=\"\n",
    "    s_quote = urllib.parse.quote(tenpo_adress)\n",
    "    response = requests.get(makeUrl + s_quote)\n",
    "    #print(response.json()[0][\"geometry\"][\"coordinates\"])# [経度,緯度]\n",
    "    longtitude = response.json()[0][\"geometry\"][\"coordinates\"][0]\n",
    "    latitude = response.json()[0][\"geometry\"][\"coordinates\"][1]\n",
    "    #                  columns=['dmm_tenpo_name', 'hallnavi_tenpo_name', 'url', 'longtitude','latitude']\n",
    "    record_df  = pd.DataFrame([[tenpo_name,prefecture,hallnavi_tenpo_name,   url   , longtitude    ,latitude]],columns=['dmm_tenpo_name','prefecture', 'hallnavi_tenpo_name', 'url', 'longtitude','latitude'])\n",
    "    print(record_df)\n",
    "    serched_df = pd.concat([serched_df,record_df],axis=0,ignore_index=True)\n",
    "\n",
    "    time.sleep(2)\n",
    "        \n",
    "    # except Exception as e:\n",
    "    #     hallnavi_scraping_error_tenpo_name_dict[tenpo_name] =  e\n",
    "    #     print('エラー店舗',tenpo_name,e)\n",
    "    #     break\n",
    "    #     continue\n",
    "    # if i > 10:\n",
    "    #     break\n",
    "#data_df.to_csv(csv_file_name)"
   ]
  },
  {
   "cell_type": "code",
   "execution_count": 164,
   "metadata": {},
   "outputs": [],
   "source": [
    "serched_df.to_csv('csv/scrapinged_kanto_tenpo_name_table.csv', index=False)"
   ]
  },
  {
   "cell_type": "code",
   "execution_count": 168,
   "metadata": {},
   "outputs": [
    {
     "data": {
      "text/html": [
       "<div>\n",
       "<style scoped>\n",
       "    .dataframe tbody tr th:only-of-type {\n",
       "        vertical-align: middle;\n",
       "    }\n",
       "\n",
       "    .dataframe tbody tr th {\n",
       "        vertical-align: top;\n",
       "    }\n",
       "\n",
       "    .dataframe thead th {\n",
       "        text-align: right;\n",
       "    }\n",
       "</style>\n",
       "<table border=\"1\" class=\"dataframe\">\n",
       "  <thead>\n",
       "    <tr style=\"text-align: right;\">\n",
       "      <th></th>\n",
       "      <th>0</th>\n",
       "      <th>1</th>\n",
       "    </tr>\n",
       "  </thead>\n",
       "  <tbody>\n",
       "    <tr>\n",
       "      <th>0</th>\n",
       "      <td>評価 -0.5</td>\n",
       "      <td>絆の森印西店</td>\n",
       "    </tr>\n",
       "  </tbody>\n",
       "</table>\n",
       "</div>"
      ],
      "text/plain": [
       "         0       1\n",
       "0  評価 -0.5  絆の森印西店"
      ]
     },
     "execution_count": 168,
     "metadata": {},
     "output_type": "execute_result"
    }
   ],
   "source": [
    "df"
   ]
  },
  {
   "cell_type": "code",
   "execution_count": null,
   "metadata": {},
   "outputs": [],
   "source": [
    "try: \n",
    "    try:\n",
    "        check_text = df[0][0]\n",
    "    except:\n",
    "        continue"
   ]
  },
  {
   "cell_type": "code",
   "execution_count": 153,
   "metadata": {},
   "outputs": [
    {
     "data": {
      "text/html": [
       "<div>\n",
       "<style scoped>\n",
       "    .dataframe tbody tr th:only-of-type {\n",
       "        vertical-align: middle;\n",
       "    }\n",
       "\n",
       "    .dataframe tbody tr th {\n",
       "        vertical-align: top;\n",
       "    }\n",
       "\n",
       "    .dataframe thead th {\n",
       "        text-align: right;\n",
       "    }\n",
       "</style>\n",
       "<table border=\"1\" class=\"dataframe\">\n",
       "  <thead>\n",
       "    <tr style=\"text-align: right;\">\n",
       "      <th></th>\n",
       "      <th>0</th>\n",
       "      <th>1</th>\n",
       "    </tr>\n",
       "  </thead>\n",
       "  <tbody>\n",
       "    <tr>\n",
       "      <th>0</th>\n",
       "      <td>店舗HP</td>\n",
       "      <td>DMMぱちタウン / P-WORLD</td>\n",
       "    </tr>\n",
       "    <tr>\n",
       "      <th>1</th>\n",
       "      <td>住所</td>\n",
       "      <td>千葉県千葉市中央区富士見2-4-5</td>\n",
       "    </tr>\n",
       "    <tr>\n",
       "      <th>2</th>\n",
       "      <td>電話</td>\n",
       "      <td>043-202-0077</td>\n",
       "    </tr>\n",
       "    <tr>\n",
       "      <th>3</th>\n",
       "      <td>パチンコ台数</td>\n",
       "      <td>667</td>\n",
       "    </tr>\n",
       "    <tr>\n",
       "      <th>4</th>\n",
       "      <td>パチンコ料金</td>\n",
       "      <td>[4][1]</td>\n",
       "    </tr>\n",
       "    <tr>\n",
       "      <th>5</th>\n",
       "      <td>スロット台数</td>\n",
       "      <td>370</td>\n",
       "    </tr>\n",
       "    <tr>\n",
       "      <th>6</th>\n",
       "      <td>スロット料金</td>\n",
       "      <td>[1000円/46枚][1000円/184枚]</td>\n",
       "    </tr>\n",
       "    <tr>\n",
       "      <th>7</th>\n",
       "      <td>Line</td>\n",
       "      <td>店舗 LINE</td>\n",
       "    </tr>\n",
       "    <tr>\n",
       "      <th>8</th>\n",
       "      <td>その他</td>\n",
       "      <td>設置機種・営業状況はPWORLD等をご確認下さい。店休日には対応していません 店舗名でGoo...</td>\n",
       "    </tr>\n",
       "  </tbody>\n",
       "</table>\n",
       "</div>"
      ],
      "text/plain": [
       "        0                                                  1\n",
       "0    店舗HP                                 DMMぱちタウン / P-WORLD\n",
       "1      住所                                  千葉県千葉市中央区富士見2-4-5\n",
       "2      電話                                       043-202-0077\n",
       "3  パチンコ台数                                                667\n",
       "4  パチンコ料金                                             [4][1]\n",
       "5  スロット台数                                                370\n",
       "6  スロット料金                            [1000円/46枚][1000円/184枚]\n",
       "7    Line                                            店舗 LINE\n",
       "8     その他  設置機種・営業状況はPWORLD等をご確認下さい。店休日には対応していません 店舗名でGoo..."
      ]
     },
     "metadata": {},
     "output_type": "display_data"
    }
   ],
   "source": [
    "dfs = pd.read_html(url)\n",
    "for df in dfs:\n",
    "    try:\n",
    "        check_text = df[0][0]\n",
    "    except:\n",
    "        continue\n",
    "    if check_text == '店舗HP':\n",
    "        display(df)\n",
    "        break"
   ]
  },
  {
   "cell_type": "code",
   "execution_count": 142,
   "metadata": {},
   "outputs": [],
   "source": [
    "serched_df = pd.DataFrame(columns=['dmm_tenpo_name', 'hallnavi_tenpo_name', 'url', 'longtitude','latitude'],index=[]) \n",
    "record_df  = pd.DataFrame([[tenpo_name,hallnavi_tenpo_name,   url   , longtitude    ,latitude]],columns=['dmm_tenpo_name', 'hallnavi_tenpo_name', 'url', 'longtitude','latitude'])\n",
    "serched_df = pd.concat([serched_df,record_df],axis=0,ignore_index=True)"
   ]
  },
  {
   "cell_type": "code",
   "execution_count": 144,
   "metadata": {},
   "outputs": [
    {
     "data": {
      "text/html": [
       "<div>\n",
       "<style scoped>\n",
       "    .dataframe tbody tr th:only-of-type {\n",
       "        vertical-align: middle;\n",
       "    }\n",
       "\n",
       "    .dataframe tbody tr th {\n",
       "        vertical-align: top;\n",
       "    }\n",
       "\n",
       "    .dataframe thead th {\n",
       "        text-align: right;\n",
       "    }\n",
       "</style>\n",
       "<table border=\"1\" class=\"dataframe\">\n",
       "  <thead>\n",
       "    <tr style=\"text-align: right;\">\n",
       "      <th></th>\n",
       "      <th>dmm_tenpo_name</th>\n",
       "      <th>hallnavi_tenpo_name</th>\n",
       "      <th>url</th>\n",
       "      <th>longtitude</th>\n",
       "      <th>latitude</th>\n",
       "    </tr>\n",
       "  </thead>\n",
       "  <tbody>\n",
       "    <tr>\n",
       "      <th>0</th>\n",
       "      <td>ＳＬＯＴ　Ｇ８</td>\n",
       "      <td>SLOTG8</td>\n",
       "      <td>https://hall-navi.com/hole_view?hid=2991142000...</td>\n",
       "      <td>139.880066</td>\n",
       "      <td>35.343102</td>\n",
       "    </tr>\n",
       "  </tbody>\n",
       "</table>\n",
       "</div>"
      ],
      "text/plain": [
       "  dmm_tenpo_name hallnavi_tenpo_name   \n",
       "0        ＳＬＯＴ　Ｇ８              SLOTG8  \\\n",
       "\n",
       "                                                 url  longtitude   latitude  \n",
       "0  https://hall-navi.com/hole_view?hid=2991142000...  139.880066  35.343102  "
      ]
     },
     "execution_count": 144,
     "metadata": {},
     "output_type": "execute_result"
    }
   ],
   "source": [
    "serched_df"
   ]
  },
  {
   "cell_type": "code",
   "execution_count": 58,
   "metadata": {},
   "outputs": [
    {
     "name": "stdout",
     "output_type": "stream",
     "text": [
      "10\n",
      "SLOTG8 https://hall-navi.com/hole_view?hid=299114200000673112\n"
     ]
    }
   ],
   "source": []
  },
  {
   "cell_type": "code",
   "execution_count": 74,
   "metadata": {},
   "outputs": [],
   "source": []
  },
  {
   "cell_type": "code",
   "execution_count": 75,
   "metadata": {},
   "outputs": [],
   "source": []
  },
  {
   "cell_type": "code",
   "execution_count": 83,
   "metadata": {},
   "outputs": [
    {
     "data": {
      "text/plain": [
       "'SLOTG8'"
      ]
     },
     "execution_count": 83,
     "metadata": {},
     "output_type": "execute_result"
    }
   ],
   "source": []
  },
  {
   "cell_type": "code",
   "execution_count": 85,
   "metadata": {},
   "outputs": [
    {
     "data": {
      "text/plain": [
       "[]"
      ]
     },
     "execution_count": 85,
     "metadata": {},
     "output_type": "execute_result"
    }
   ],
   "source": [
    "url_soup.find_all(class_ ='table')"
   ]
  },
  {
   "cell_type": "code",
   "execution_count": 92,
   "metadata": {},
   "outputs": [
    {
     "data": {
      "text/plain": [
       "'\\n\\n\\n\\n\\n\\nSLOTG8｜出玉データや取材・旧イベのまとめとおすすめ情報\\n\\n\\n\\n\\n\\n\\n\\n\\n\\n\\n\\n\\n\\n\\n\\n\\n\\n\\n\\n\\n\\n\\n\\n\\n\\n\\n\\n\\n\\n\\n\\n\\n\\n\\n\\n\\n\\n\\n\\n\\n\\n\\n\\n\\n\\n\\n\\n\\n\\n\\n\\n\\n\\n\\n\\n\\n\\n\\n\\n\\n\\n\\n\\n\\n\\n関東版 \\n\\n\\n\\n\\n\\n\\n\\n          Menu\\n        \\n\\n\\n\\n\\n\\n\\n\\n\\n              プレミアム会員登録\\n            \\n\\n\\n\\n\\n\\n\\n\\n              ログイン\\n            \\n\\n\\n\\n\\n\\n\\n\\n              おすすめ分析\\n            \\n\\n\\n\\n\\n\\n\\n\\n              取材や旧イベを検索\\n            \\n\\n\\n\\n\\n\\n\\n\\n              ホールを検索\\n            \\n\\n\\n\\n\\n\\n\\n\\n              結果レポートを検索\\n            \\n\\n\\n\\n\\n\\n\\n\\n              ユーザー投稿一覧\\n            \\n\\n\\n\\n\\n\\n\\n\\n              エリア選択\\n            \\n\\n\\n\\n\\n\\n\\n\\n\\n\\n\\n\\n\\n\\n\\n7/29(土)おすすめランキング\\n\\n\\n東京都\\n17.5点\\n\\n\\n\\n\\n\\n\\n\\n\\n神奈川県\\n19.2点\\n\\n\\n\\n\\n\\n\\n\\n\\n埼玉県\\n18.6点\\n\\n\\n\\n\\n\\n\\n\\n\\n千葉県\\n19.7点\\n\\n\\n\\n\\n\\n\\n\\n\\n茨城県\\n17.8点\\n\\n\\n\\n\\n\\n\\n\\n\\n栃木県\\n16.3点\\n\\n\\n\\n\\n\\n\\n\\n\\n群馬県\\n13.8点\\n\\n\\n\\n\\n\\n7/29(土)スケジュールエリアから探す\\n\\n\\n\\n                                東京都\\n                            \\n                                188件\\n                            \\n\\n\\n\\n\\n\\n\\n\\n\\n                                神奈川県\\n                            \\n                                247件\\n                            \\n\\n\\n\\n\\n\\n\\n\\n\\n                                埼玉県\\n                            \\n                                312件\\n                            \\n\\n\\n\\n\\n\\n\\n\\n\\n                                千葉県\\n                            \\n                                160件\\n                            \\n\\n\\n\\n\\n\\n\\n\\n\\n                                茨城県\\n                            \\n                                92件\\n                            \\n\\n\\n\\n\\n\\n\\n\\n\\n                                栃木県\\n                            \\n                                87件\\n                            \\n\\n\\n\\n\\n\\n\\n\\n\\n                                群馬県\\n                            \\n                                57件\\n                            \\n\\n\\n\\n\\n\\n取材から探す\\n\\n\\n\\n\\n                                1game\\n                            \\n                                1件\\n                            \\n\\n\\n\\n\\n\\n\\n\\n\\n                                BASHtv\\n                            \\n                                2件\\n                            \\n\\n\\n\\n\\n\\n\\n\\n\\n                                BREAKING RESEARCH\\n                            \\n                                1件\\n                            \\n\\n\\n\\n\\n\\n\\n\\n\\n                                DMMぱちタウン\\n                            \\n                                142件\\n                            \\n\\n\\n\\n\\n\\n\\n\\n\\n                                P-martTV\\n                            \\n                                3件\\n                            \\n\\n\\n\\n\\n\\n\\n\\n\\n                                PS-EMOTION\\n                            \\n                                12件\\n                            \\n\\n\\n\\n\\n\\n\\n\\n\\n                                Pチャンプ\\n                            \\n                                1件\\n                            \\n\\n\\n\\n\\n\\n\\n\\n\\n                                えいりヤン\\n                            \\n                                19件\\n                            \\n\\n\\n\\n\\n\\n\\n\\n\\n                                かみちゃま・かみたま\\n                            \\n                                22件\\n                            \\n\\n\\n\\n\\n\\n\\n\\n\\n                                そにま\\n                            \\n                                8件\\n                            \\n\\n\\n\\n\\n\\n\\n\\n\\n                                その他取材・企画\\n                            \\n                                4件\\n                            \\n\\n\\n\\n\\n\\n\\n\\n\\n                                でちゃう！\\n                            \\n                                4件\\n                            \\n\\n\\n\\n\\n\\n\\n\\n\\n                                ななライズ\\n                            \\n                                6件\\n                            \\n\\n\\n\\n\\n\\n\\n\\n\\n                                ぱちおび\\n                            \\n                                5件\\n                            \\n\\n\\n\\n\\n\\n\\n\\n\\n                                みんパチ\\n                            \\n                                3件\\n                            \\n\\n\\n\\n\\n\\n\\n\\n\\n                                やっぱカントー\\n                            \\n                                2件\\n                            \\n\\n\\n\\n\\n\\n\\n\\n\\n                                よっしー社長プロデュ…\\n                            \\n                                9件\\n                            \\n\\n\\n\\n\\n\\n\\n\\n\\n                                りゅーこ\\n                            \\n                                36件\\n                            \\n\\n\\n\\n\\n\\n\\n\\n\\n                                アツモリ\\n                            \\n                                16件\\n                            \\n\\n\\n\\n\\n\\n\\n\\n\\n                                アツ姫\\n                            \\n                                18件\\n                            \\n\\n\\n\\n\\n\\n\\n\\n\\n                                アナスロ\\n                            \\n                                8件\\n                            \\n\\n\\n\\n\\n\\n\\n\\n\\n                                イナズマ店長\\n                            \\n                                6件\\n                            \\n\\n\\n\\n\\n\\n\\n\\n\\n                                ウチイクTV\\n                            \\n                                1件\\n                            \\n\\n\\n\\n\\n\\n\\n\\n\\n                                エリアイ企画\\n                            \\n                                3件\\n                            \\n\\n\\n\\n\\n\\n\\n\\n\\n                                エースプロ\\n                            \\n                                4件\\n                            \\n\\n\\n\\n\\n\\n\\n\\n\\n                                オフミー\\n                            \\n                                1件\\n                            \\n\\n\\n\\n\\n\\n\\n\\n\\n                                ガチアン\\n                            \\n                                38件\\n                            \\n\\n\\n\\n\\n\\n\\n\\n\\n                                ギャラスタ～GALAXY ST…\\n                            \\n                                1件\\n                            \\n\\n\\n\\n\\n\\n\\n\\n\\n                                グーパチ\\n                            \\n                                7件\\n                            \\n\\n\\n\\n\\n\\n\\n\\n\\n                                ジャンバリ.TV\\n                            \\n                                5件\\n                            \\n\\n\\n\\n\\n\\n\\n\\n\\n                                スクープTV\\n                            \\n                                8件\\n                            \\n\\n\\n\\n\\n\\n\\n\\n\\n                                スロットイベ日調査隊Ｚ\\n                            \\n                                15件\\n                            \\n\\n\\n\\n\\n\\n\\n\\n\\n                                スロパチステーション\\n                            \\n                                9件\\n                            \\n\\n\\n\\n\\n\\n\\n\\n\\n                                セブンズTV\\n                            \\n                                1件\\n                            \\n\\n\\n\\n\\n\\n\\n\\n\\n                                ダブルジャッジ\\n                            \\n                                3件\\n                            \\n\\n\\n\\n\\n\\n\\n\\n\\n                                トリプルスター\\n                            \\n                                4件\\n                            \\n\\n\\n\\n\\n\\n\\n\\n\\n                                ドラゴニックスレイヤー\\n                            \\n                                10件\\n                            \\n\\n\\n\\n\\n\\n\\n\\n\\n                                ドリスロ\\n                            \\n                                48件\\n                            \\n\\n\\n\\n\\n\\n\\n\\n\\n                                ナビ子予想\\n                            \\n                                5件\\n                            \\n\\n\\n\\n\\n\\n\\n\\n\\n                                ニコナナ\\n                            \\n                                1件\\n                            \\n\\n\\n\\n\\n\\n\\n\\n\\n                                バリスロ\\n                            \\n                                3件\\n                            \\n\\n\\n\\n\\n\\n\\n\\n\\n                                パチ7\\n                            \\n                                7件\\n                            \\n\\n\\n\\n\\n\\n\\n\\n\\n                                パチとスロは友を呼ぶ\\n                            \\n                                4件\\n                            \\n\\n\\n\\n\\n\\n\\n\\n\\n                                パチエース\\n                            \\n                                11件\\n                            \\n\\n\\n\\n\\n\\n\\n\\n\\n                                パチスロ必勝本\\n                            \\n                                12件\\n                            \\n\\n\\n\\n\\n\\n\\n\\n\\n                                パチマガスロマガじゃ…\\n                            \\n                                3件\\n                            \\n\\n\\n\\n\\n\\n\\n\\n\\n                                パチンコ店長のホール…\\n                            \\n                                14件\\n                            \\n\\n\\n\\n\\n\\n\\n\\n\\n                                パチ検\\n                            \\n                                1件\\n                            \\n\\n\\n\\n\\n\\n\\n\\n\\n                                ホールサーチマン\\n                            \\n                                5件\\n                            \\n\\n\\n\\n\\n\\n\\n\\n\\n                                ホールナビ\\n                            \\n                                333件\\n                            \\n\\n\\n\\n\\n\\n\\n\\n\\n                                マルっとWAVE\\n                            \\n                                3件\\n                            \\n\\n\\n\\n\\n\\n\\n\\n\\n                                中トロくん\\n                            \\n                                6件\\n                            \\n\\n\\n\\n\\n\\n\\n\\n\\n                                五神獣\\n                            \\n                                2件\\n                            \\n\\n\\n\\n\\n\\n\\n\\n\\n                                分析ババア\\n                            \\n                                2件\\n                            \\n\\n\\n\\n\\n\\n\\n\\n\\n                                四神\\n                            \\n                                9件\\n                            \\n\\n\\n\\n\\n\\n\\n\\n\\n                                天道虫\\n                            \\n                                2件\\n                            \\n\\n\\n\\n\\n\\n\\n\\n\\n                                店舗傾向分析\\n                            \\n                                2件\\n                            \\n\\n\\n\\n\\n\\n\\n\\n\\n                                新回胴ミッション\\n                            \\n                                1件\\n                            \\n\\n\\n\\n\\n\\n\\n\\n\\n                                爆ガチ!\\n                            \\n                                1件\\n                            \\n\\n\\n\\n\\n\\n\\n\\n\\n                                裏店長ミリオネア\\n                            \\n                                5件\\n                            \\n\\n\\n\\n\\n\\n\\n\\n\\n                                頂-ITADAKI-\\n                            \\n                                2件\\n                            \\n\\n\\n\\n\\n\\n旧イベントを検索\\n\\n\\n\\n\\n                                旧イベ\\n                            \\n                                263件\\n                            \\n\\n\\n\\n\\n\\nグランドオープンの整理券配布を検索\\n\\n\\n\\n\\n                                グランドオープン整理…\\n                            \\n                                1件\\n                            \\n\\n\\n\\n\\n\\n検索[リニューアル]\\n\\n\\n\\n\\n                                リニューアルオープン\\n                            \\n                                16件\\n                            \\n\\n\\n\\n\\n\\n新台入替を検索\\n\\n\\n\\n\\n                                新台入替\\n                            \\n                                4件\\n                            \\n\\n\\n\\n\\n優秀状況PICKUP \\n7/23(日)\\n\\n\\n\\n\\n\\n\\n\\n\\n\\n\\n\\n\\n\\n\\n142\\n\\n\\n\\n\\nマルハンメガシティ柏店\\n\\n\\n\\nEXCELLENT!!\\n\\n\\n\\n\\nアナライズレポート\\n8 uu\\n\\n\\n\\nホールナビ投稿レビュー\\n\\n\\n\\n\\nでちゃう編集部来店(ももせみくる) / ナビ子AI予想【差枚プラス】★3 / ナビ子AI予...\\n103台\\n合計+224,799枚\\n平均+2,183枚\\n【マルハンメガシティ柏】でちゃう！的アナライズ結果7月23日（日）【「ヴヴヴ」が全台系で万枚3台！日付まつわりの末尾仕掛けあり！】 | PACHINKO・SLOT でちゃう！PLUS\\n千葉県柏市十余二249-86\\n結果レポート364件 / スケジュール9件 / コメント投稿7件 / レビュー投稿10件\\n\\n\\n\\n\\n7/22(土)\\n\\n\\n\\n\\n\\n\\n\\n\\n\\n\\n\\n\\n\\n\\n782\\n\\n\\n\\n\\nPIA横浜モアーズ\\n\\n\\n\\nEXCELLENT!!\\n\\n\\n\\n\\nホールナビ投稿レビュー\\n1 uu\\n\\n\\n\\nナビ子のちょっと気になる出玉ピックアップ！\\n\\n\\n\\n\\n旧イベ(ゾロ目の日) / ヤスヲとガッキーのバーサス取材 / ナビ子AI予想【機種仕掛け】...\\n並び153人\\n64台\\n合計+146,340枚\\n神奈川県横浜市西区南幸1-3-1\\n結果レポート1,151件 / スケジュール16件 / コメント投稿22件 / レビュー投稿33件\\n\\n\\n\\n\\n\\n\\n\\n\\n\\n\\n\\n\\n\\n\\n\\n129\\n\\n\\n\\n\\nパラッツォ鳩ヶ谷店\\n\\n\\n\\nEXCELLENT!!\\n\\n\\n\\n\\nホールナビ投稿レビュー\\n\\n\\n\\n\\n旧イベ(2のつく日) / ＺＺスロパチンカー / スロイベビンゴ / ナビ子AI予想【機種...\\n72台\\n合計+184,825枚\\n平均+2,567枚\\n埼玉県川口市里1630\\n結果レポート395件 / スケジュール12件 / コメント投稿3件 / レビュー投稿105件\\n\\n\\n\\n\\n7/18(火)\\n\\n\\n\\n\\n\\n\\n\\n\\n\\n\\n\\n\\n\\n\\n202\\n\\n\\n\\n\\nパラッツォ三郷中央店\\n\\n\\n\\nEXCELLENT!!\\n\\n\\n\\n\\nホールナビ投稿レビュー\\n3 uu\\n\\n\\n\\nナビ子のちょっと気になる出玉ピックアップ！\\n\\n\\n\\n\\n8のつく日保留 / チーム分析(パチスロ) / よっしー社長のプラベ打ち / ナビ子AI予...\\n45台\\n合計+160,755枚\\n平均+3,572枚\\n埼玉県三郷市中央1-8-11\\n結果レポート958件 / スケジュール14件 / コメント投稿1件 / レビュー投稿199件\\n\\n\\n\\n\\n\\n\\n\\n\\n\\n\\n\\n\\n\\n\\n\\n\\n\\n142\\n\\n\\n\\n\\nマルハンメガシティ柏店\\n\\n\\n\\nEXCELLENT!!\\n\\n\\n\\n\\nホールナビ投稿レビュー\\n5 uu\\n\\n\\n\\nアナライズレポート\\n9 uu\\n\\n\\n\\nナビ子のちょっと気になる出玉ピックアップ！\\n\\n\\n\\n\\nナビ子AI予想【差枚プラス】★3 / ナビ子AI予想【機種仕掛け】★5 / ナビ子AI独自...\\n88台\\n合計+184,009枚\\n平均+2,091枚\\n【マルハンメガシティ柏】でちゃう！的アナライズ結果7月18日（火）【休み明けも好状況！総差枚+145,500枚、平均+291枚！】 | PACHINKO・SLOT でちゃう！PLUS\\n千葉県柏市十余二249-86\\n結果レポート364件 / スケジュール9件 / コメント投稿7件 / レビュー投稿10件\\n\\n\\n\\n\\n7/17(月)\\n\\n\\n\\n\\n\\n\\n\\n\\n\\n\\n\\n\\n\\n\\n202\\n\\n\\n\\n\\nパラッツォ三郷中央店\\n\\n\\n\\nEXCELLENT!!\\n\\n\\n\\n\\nホールナビ投稿レビュー\\n3 uu\\n\\n\\n\\nナビ子のちょっと気になる出玉ピックアップ！\\n\\n\\n\\n\\nガチアンケート虹色 / ぶっ通し7days調査 / 昇天チャレンジ / ナビ子AI予想【機...\\n144台\\n合計+282,985枚\\n平均+1,965枚\\n埼玉県三郷市中央1-8-11\\n結果レポート958件 / スケジュール14件 / コメント投稿1件 / レビュー投稿199件\\n\\n\\n\\n\\n\\n\\n\\n\\n\\n\\n\\n\\n\\n\\n\\n\\n\\n142\\n\\n\\n\\n\\nマルハンメガシティ柏店\\n\\n\\n\\nEXCELLENT!!\\n\\n\\n\\n\\nホールナビ投稿レビュー\\n33 uu\\n\\n\\n\\nアナライズレポート\\n12 uu\\n\\n\\n\\nナビ子のちょっと気になる出玉ピックアップ！\\n2 uu\\n\\n\\n\\n旧イベ(7のつく日) / ナビ子AI予想【差枚プラス】★5 / ナビ子AI予想【機種仕掛け...\\n263台\\n合計+428,386枚\\n平均+1,629枚\\n【マルハンメガシティ柏】でちゃう！的アナライズ結果7月17日（月）【祝日関係なし！総差枚+223,700枚、平均+448枚！】 | PACHINKO・SLOT でちゃう！PLUS\\n千葉県柏市十余二249-86\\n結果レポート364件 / スケジュール9件 / コメント投稿7件 / レビュー投稿10件\\n\\n\\n\\n\\n\\n\\n\\n\\n\\n\\n\\n\\n\\n\\n\\n\\n98\\n\\n\\n\\n\\nパラッツォ馬橋駅前店\\n\\n\\n\\nEXCELLENT!!\\n\\n\\n\\n\\nホールナビ投稿レビュー\\n3 uu\\n\\n\\n\\nナビ子のちょっと気になる出玉ピックアップ！\\n\\n\\n\\n\\n旧イベ(毎月 17日) / よっしー社長の厳選ホール / ガチアンケート虹色 / 共闘(パ...\\n61台\\n合計+183,640枚\\n平均+3,011枚\\n千葉県松戸市西馬橋蔵元町3-1\\n結果レポート538件 / スケジュール10件 / レビュー投稿54件\\n\\n\\n\\n\\n7/16(日)\\n\\n\\n\\n\\n\\n\\n\\n\\n\\n\\n\\n\\n\\n\\n129\\n\\n\\n\\n\\nパラッツォ鳩ヶ谷店\\n\\n\\n\\nEXCELLENT!!\\n\\n\\n\\n\\nホールナビ投稿レビュー\\n5 uu\\n\\n\\n\\nナビ子のちょっと気になる出玉ピックアップ！\\n\\n\\n\\n\\nスロパチステーション潜入取材 メガテン / ドリパチ / ナビ子AI予想【機種仕掛け】★5...\\n119台\\n合計+276,627枚\\n平均+2,325枚\\n埼玉県川口市里1630\\n結果レポート395件 / スケジュール12件 / コメント投稿3件 / レビュー投稿105件\\n\\n\\n\\n\\n7/15(土)\\n\\n\\n\\n\\n\\n\\n\\n\\n\\n\\n\\n\\n\\n256\\n\\n\\n\\n\\nビックマーチ宇都宮店\\n\\n\\n\\nEXCELLENT!!\\n\\n\\n\\n\\nスロパチステーション潜入取材 メガテン\\n9 uu\\n\\n\\n\\nドリパチ / ナビ子AI予想【機種仕掛け】★3\\n並び331人\\n42台\\n合計+109,000枚\\n【7月15日 ビックマーチ宇都宮店】初スロパチ取材”メガテン”！スマスロ北斗が6台並びで出玉感、稼働共に好調な結果に！またカバネリからも盛り上がりが感じられた！ | スロパチステーション パチンコ・パチスロホールサイト\\n栃木県宇都宮市川田町1001−1\\n結果レポート1,188件 / スケジュール12件 / コメント投稿4件 / レビュー投稿3件\\n\\n\\n\\n\\nレポート検索へ\\n\\nみんなの投稿\\n\\n\\n\\n\\n神奈川県横須賀市\\nアビバ横須賀中央店\\n7/26(水) 13台 +47,846枚ナビ子AI独自予想機種仕掛け、ナビ子予想【スマスロ&6.5号機】、ナビ子AI独自予想\\xa0N\\xa0+6.0、だぶパチ取材...\\n\\n\\n詳細を見る\\n\\n\\n\\n\\n\\n\\n\\n\\n\\n\\n東京都町田市\\nPIA町田新館\\n7/26(水) 58台 +103,841枚ナビ子AI独自予想機種仕掛け、ナビ子予想【スマスロ&6.5号機】、ナビ子AI独自予想\\xa0N\\xa0+6.0、天草ヤスヲの...\\n\\n\\n詳細を見る\\n\\n\\n\\n\\n\\n\\n\\n\\n\\n\\n千葉県千葉市花見川区\\nパラッツォ新検見川店\\n7/25(火) 31台 +83,958枚ナビ子AI独自予想差枚プラス/機種仕掛け 新台入替(P-WORLD引用)※10:00|スマスロ\\xa0バイオハザード:ヴェンデッタ&nb...\\n\\n\\n詳細を見る\\n\\n\\n\\n\\n\\n\\n\\n\\n\\n\\n神奈川県川崎市川崎区\\n吉兆川崎中央店\\n7/25(火) 71台 +116,010枚ナビ子AI独自予想機種仕掛け、ナビ子予想【スマスロ&6.5号機】、ナビ子AI独自予想\\xa0N\\xa0+6.0   機種単位...\\n\\n\\n詳細を見る\\n\\n\\n\\n\\n\\n\\n\\n\\n\\n\\n東京都台東区\\nパンドラ浅草店\\n7/25(火) 34台 +81,793枚ナビ子AI独自予想機種仕掛け、ナビ子予想【スマスロ&6.5号機】、ナビ子AI独自予想\\xa0N\\xa0+6.0  機種単位で...\\n\\n\\n詳細を見る\\n\\n\\n\\n\\n\\n\\n\\n\\n\\n\\n神奈川県横浜市神奈川区\\n吉兆横浜西寺尾店\\n7/25(火) 28台 +31,442枚ナビ子AI独自予想機種仕掛け、GOフェス(アツ姫)、GOフェス  注目機種 機種名:ゴーゴージャグラー3 勝率:4/6 差枚数:690 回転...\\n\\n\\n詳細を見る\\n\\n\\n\\n\\n\\n\\n\\n\\n\\n\\n埼玉県児玉郡\\nスーパーDステーション上里\\n7/24(月) 10台 +19,786枚ナビ子AI独自予想機種仕掛け ナビ子AI独自予想\\xa0N\\xa0+4.5※3台並び複数有  好調機種ピックアップ 機種名:L主役は...\\n\\n\\n詳細を見る\\n\\n\\n\\n\\n\\n\\n\\n\\n\\n\\n茨城県取手市\\nガーデン取手\\n7/26(水) 33台 +60,380枚新装開店機種名:LからくりサーカスG(568番台) 勝率:1/1 平均回転:6670 平均差枚:6390  機種名:SキャッツアイH6 勝率...\\n\\n\\n詳細を見る\\n\\n\\n\\n\\n\\n\\n\\n\\n\\n\\n茨城県取手市\\nガーデン取手\\n7/24(月) 32台 +57,970枚機種名:LゴブリンスレイヤーRD(513番台) 勝率:1/1 平均回転:4570 平均差枚:9190  機種名:Sパチスロ甲鉄城のカバネリZ...\\n\\n\\n詳細を見る\\n\\n\\n\\n\\n\\n\\n\\n\\n\\n\\n埼玉県川口市\\nパラッツォ鳩ヶ谷店\\n7/25(火) 65台 +144,791枚ナビ子AI独自予想機種仕掛け、月周年日 新台入替(P-WORLD引用)※10:00|スマスロ\\xa0バイオハザード:ヴェンデッタ&nbs...\\n\\n\\n詳細を見る\\n\\n\\n\\n\\n\\n\\n\\n関東版の投稿一覧(11444件)を見る\\n\\n\\n\\n\\n\\n\\n\\n\\n\\n\\n\\n\\n\\n\\n\\n\\n23\\n\\n\\nSLOTG8\\n\\n            ※星を押すとお気に入り登録／解除\\n\\n\\n\\n\\n\\n\\n取材・旧イベ\\n\\n過去レポ\\n\\n優秀機種\\n\\n台番まとめ\\n\\n基本情報\\n\\n\\n\\n\\n\\n明日:7/29(土)の状況と評価\\n\\n    \\n          情報はありません\\n        \\n  \\n\\n※一部取材スケジュールの推測について\\n\\n「千葉県」の取材/予想一覧 TOP3店舗\\n\\n\\n\\n「千葉県 7/29(土)」のおすすめランキングは必見！要チェックです！\\n\\n\\n\\n\\n\\n\\n\\n19.7点\\n\\n\\n        千葉県\\n      \\n\\n\\nS\\n × 2\\n\\n\\nA\\n × 1\\n\\n\\nB\\n × 1\\n\\n\\n\\n\\n\\n\\n\\n\\n16.7点\\n\\n\\n        千葉県\\n      \\n\\n\\nS\\n × 1\\n\\n\\nA\\n × 1\\n\\n\\n\\n\\n\\n\\n\\n\\n16.3点\\n\\n\\n        キクヤ千葉店\\n      \\n\\n\\nS\\n土曜日を奪取せ…\\n\\n\\n\\n\\n\\n\\n\\n    「千葉県 7/29(土)」おすすめランキングを見る\\n  \\n\\n\\n\\n    「千葉県 7/29(土)」スケジュール一覧を見る\\n  \\n\\n\\n\\n\\n                ここからは分析型人工知能ナビ子が、分析内容と一緒にご説明します！お気づきの点やご要望があればコメント欄にお書きください！\\n            \\n\\n\\n分析の基準日について\\n\\n\\n    7/29(土)を基準に分析を行っています！\\n    \\n7/29(土)の評価概要\\n\\n\\n\\n\\n評価 +1\\nホール基本情報\\n\\n\\n\\n\\n合計 +1.0\\n\\n千葉県全体のランキングは必見!!\\n\\n「千葉県 7/29(土)」おすすめランキングを見る\\n\\n\\n当日の取材／独自予想\\n7/29(土)は取材／独自予想の情報がありません当日の旧イベ\\n7/29(土)は旧イベント日ではありません新台入替\\n7/29(土)の状況についてこの日の、新台入替の情報はありません過去の状況について過去の情報がありませんグランドオープン\\n経過日数グランドオープンから６ヶ月以上経過しているため、プラス要素にはなりません。(2015-12-26)にグランドオープンホールの過去レポート\\n365日以内のレポートが無いため、分析できません\\n取材結果レポート、レビュー、実施取材まとめ\\n\\n情報はありません\\n\\n優秀機種順の機種、台データまとめ\\n\\n\\n      情報はありません。\\n      \\n\\n\\n優秀機種の台番単位まとめ\\n\\u3000\\n\\u3000  \\n        \\n      情報はありません。\\n      \\n\\n\\n基本情報\\n\\n\\n\\n店舗HP\\nDMMぱちタウン / P-WORLD\\n\\n\\n住所\\n千葉県君津市坂田673-11\\n\\n\\nスロット台数\\n224\\n\\n\\nスロット料金\\n[20]\\n\\n\\nその他\\n設置機種・営業状況はPWORLD等をご確認下さい。店休日には対応していません店舗名でGoogle検索\\n\\n\\n\\n過去33日までの取材や旧イベ状況\\n情報はありません\\n\\nホール基本情報\\n設置台数について設置台数は224台と中規模な店舗といえます。プラス要素にはなりません。 貸玉料金について「スロット専門」で「高貸玉専門」の可能性が高いです。若干のプラス要素としています。\\n    \\n\\n評価 +0.5\\n\\n\\n\\n パチ／スロの特化度合いパチンコ専門店の可能性が高いです。若干のプラス要素としています。\\n    \\n\\n評価 +0.5\\n\\n\\n\\n\\n\\n近くの店舗の7/29(土)の評価\\n\\n\\n\\n評価 +3.6\\nメトロ潮見通り店\\n\\n\\n\\n\\n評価 +4.2\\nヴィーナス市原\\n\\n\\n\\n\\n評価 0.0\\nパーラークレスト姉崎店\\n\\n\\n\\n\\n評価 0.0\\nヒノマル姉崎店\\n\\n\\n\\n\\n評価 0.0\\nユートピア市原\\n\\n\\n\\n\\n評価 0.0\\nPRIME-1\\n\\n\\n\\n\\n評価 -0.5\\nドルファン\\n\\n\\n\\n\\n評価 0.0\\nBEAT-816R\\n\\n\\n\\n\\n評価 0.0\\n日の丸君津駅前店\\n\\n\\n\\n\\n評価 0.0\\n日の丸八重原店\\n\\n\\n「千葉県 7/29(土)」おすすめランキングを見る\\n\\n\\nみんなのレビュー(この店舗)\\n\\n情報はありません\\n\\nみんなのコメント(この店舗)\\n\\n情報はありません\\n情報投稿\\n\\n\\n以下の機能はプレミアム会員専用です\\n\\nこの店舗へコメントを投稿する\\nこの店舗へレビューを投稿する\\nこの店舗の出玉データを運営に連携する\\n\\n\\n会員登録へ\\n\\nリンク\\n\\n「千葉県 7/29(土)」おすすめランキングを見る取材・旧イベ検索ページへホール検索ページへ過去レポート検索ページへ実戦レポート一覧ページへ\\n\\n\\n\\n\\n\\n\\n\\n\\n\\n\\n\\nSiteMap\\n\\n会員登録\\nログイン\\nエリア選択\\nトップ\\nおすすめ分析ランキング\\n取材・旧イベ検索\\nホール検索\\n結果レポート検索\\nユーザー投稿一覧\\nポイントランキング\\n実戦レポート\\n出玉データについて\\nレビューポイントについて\\n出玉レビューについて\\nお問い合わせ\\n\\n注釈\\n\\n※掲載情報について当サイトに掲載されている情報は、WebサイトやSNS等で一般に公開されている情報、もしくは当サイトを利用されているユーザー様からのコメント、投稿を基にしております。また、出玉データについては弊社作業員が実際に遊技ホールを訪れ、データ表示機等から取得した情報のみ掲載し、分析に利用しております。弊社は遊技ホールとはいかなる関係も一切ございません。\\n※取材について設定や対象機種に関する情報については、あくまで過去の出玉情報やホール状況、WebサイトやSNS等で一般に公開されている情報を加味し、当サイトが独自に分析、判断した結果です。各取材・キャンペーンについて、遊技ホールと共同で催事を開催し、設定変更やイベントを行っているものでは一切ありません。\\n※当サイト内の「おすすめ・旧イベント」という表現について当サイト内の「旧イベント日」という表記は、独自の調査で判断した「過去にイベントが行われていた日」を示す表現であり、現在の状況を示すものではなく、メディア・ホールとの関連性(共同・単独で催事を行っているなど)も一切ありません。「おすすめ」についても、当サイトが様々な過去の状況を独自に数値化し、独自の計算式に基いて算出したものであり、遊技ホールやメディアとは一切関係ございません。\\nCopyright (C) 2015 MOY All Rights Reserved.\\n\\n\\n\\n\\n\\n\\n\\n\\n\\n\\n\\n\\n\\n\\n\\n\\n\\n\\n\\n\\n\\n\\n'"
      ]
     },
     "execution_count": 92,
     "metadata": {},
     "output_type": "execute_result"
    }
   ],
   "source": [
    "url_soup.text"
   ]
  },
  {
   "cell_type": "code",
   "execution_count": 96,
   "metadata": {},
   "outputs": [],
   "source": []
  },
  {
   "cell_type": "code",
   "execution_count": 124,
   "metadata": {},
   "outputs": [
    {
     "data": {
      "text/html": [
       "<div>\n",
       "<style scoped>\n",
       "    .dataframe tbody tr th:only-of-type {\n",
       "        vertical-align: middle;\n",
       "    }\n",
       "\n",
       "    .dataframe tbody tr th {\n",
       "        vertical-align: top;\n",
       "    }\n",
       "\n",
       "    .dataframe thead th {\n",
       "        text-align: right;\n",
       "    }\n",
       "</style>\n",
       "<table border=\"1\" class=\"dataframe\">\n",
       "  <thead>\n",
       "    <tr style=\"text-align: right;\">\n",
       "      <th></th>\n",
       "      <th>dmm_tenpo_name</th>\n",
       "      <th>hallnavi_tenpo_name</th>\n",
       "      <th>url</th>\n",
       "      <th>longtitude</th>\n",
       "      <th>latitude</th>\n",
       "    </tr>\n",
       "  </thead>\n",
       "  <tbody>\n",
       "  </tbody>\n",
       "</table>\n",
       "</div>"
      ],
      "text/plain": [
       "Empty DataFrame\n",
       "Columns: [dmm_tenpo_name, hallnavi_tenpo_name, url, longtitude, latitude]\n",
       "Index: []"
      ]
     },
     "execution_count": 124,
     "metadata": {},
     "output_type": "execute_result"
    }
   ],
   "source": [
    "\n",
    "serch_df  "
   ]
  },
  {
   "cell_type": "code",
   "execution_count": 102,
   "metadata": {},
   "outputs": [
    {
     "data": {
      "text/plain": [
       "False"
      ]
     },
     "execution_count": 102,
     "metadata": {},
     "output_type": "execute_result"
    }
   ],
   "source": [
    "df[0][0] == '店舗HP'"
   ]
  },
  {
   "cell_type": "code",
   "execution_count": 123,
   "metadata": {},
   "outputs": [
    {
     "data": {
      "text/html": [
       "<div>\n",
       "<style scoped>\n",
       "    .dataframe tbody tr th:only-of-type {\n",
       "        vertical-align: middle;\n",
       "    }\n",
       "\n",
       "    .dataframe tbody tr th {\n",
       "        vertical-align: top;\n",
       "    }\n",
       "\n",
       "    .dataframe thead th {\n",
       "        text-align: right;\n",
       "    }\n",
       "</style>\n",
       "<table border=\"1\" class=\"dataframe\">\n",
       "  <thead>\n",
       "    <tr style=\"text-align: right;\">\n",
       "      <th></th>\n",
       "      <th>0</th>\n",
       "      <th>1</th>\n",
       "    </tr>\n",
       "  </thead>\n",
       "  <tbody>\n",
       "    <tr>\n",
       "      <th>0</th>\n",
       "      <td>店舗HP</td>\n",
       "      <td>DMMぱちタウン / P-WORLD</td>\n",
       "    </tr>\n",
       "    <tr>\n",
       "      <th>1</th>\n",
       "      <td>住所</td>\n",
       "      <td>千葉県君津市坂田673-11</td>\n",
       "    </tr>\n",
       "    <tr>\n",
       "      <th>2</th>\n",
       "      <td>スロット台数</td>\n",
       "      <td>224</td>\n",
       "    </tr>\n",
       "    <tr>\n",
       "      <th>3</th>\n",
       "      <td>スロット料金</td>\n",
       "      <td>[20]</td>\n",
       "    </tr>\n",
       "    <tr>\n",
       "      <th>4</th>\n",
       "      <td>その他</td>\n",
       "      <td>設置機種・営業状況はPWORLD等をご確認下さい。店休日には対応していません 店舗名でGoo...</td>\n",
       "    </tr>\n",
       "  </tbody>\n",
       "</table>\n",
       "</div>"
      ],
      "text/plain": [
       "        0                                                  1\n",
       "0    店舗HP                                 DMMぱちタウン / P-WORLD\n",
       "1      住所                                     千葉県君津市坂田673-11\n",
       "2  スロット台数                                                224\n",
       "3  スロット料金                                               [20]\n",
       "4     その他  設置機種・営業状況はPWORLD等をご確認下さい。店休日には対応していません 店舗名でGoo..."
      ]
     },
     "metadata": {},
     "output_type": "display_data"
    },
    {
     "name": "stdout",
     "output_type": "stream",
     "text": [
      "千葉県君津市坂田673-11\n",
      "[139.880066, 35.343102]\n"
     ]
    }
   ],
   "source": [
    "\n"
   ]
  },
  {
   "cell_type": "code",
   "execution_count": 121,
   "metadata": {},
   "outputs": [
    {
     "data": {
      "text/plain": [
       "'千葉県君津市坂田673-11'"
      ]
     },
     "execution_count": 121,
     "metadata": {},
     "output_type": "execute_result"
    }
   ],
   "source": []
  },
  {
   "cell_type": "code",
   "execution_count": 31,
   "metadata": {},
   "outputs": [
    {
     "name": "stdout",
     "output_type": "stream",
     "text": [
      "/?sa=X&ved=0ahUKEwi_uNSPx7GAAxUZGjQIHc_2AN4QOwgC\n"
     ]
    }
   ],
   "source": [
    "\n",
    "\n",
    "#リンク取得「a」タグ\n",
    "for res in soup.find_all('a'):\n",
    "    print(res.get('href'))\n",
    "    break"
   ]
  },
  {
   "cell_type": "code",
   "execution_count": 16,
   "metadata": {},
   "outputs": [],
   "source": [
    "import re\n",
    "import requests\n",
    "\n",
    "from bs4 import BeautifulSoup\n",
    "googleSearch = 'https://www.google.co.jp/search'\n",
    "response = requests.get(googleSearch, params={'q': f'ホールナビ  {tenpo_name} ','num':5})\n",
    "html = response.text.encode()\n",
    "bs4 = BeautifulSoup(html,'html.parser')\n",
    "searchResults = bs4.select('.r > a')\n",
    "for searchResult in searchResults:\n",
    "    title = searchResult.text\n",
    "    url = re.sub(\"\\/url\\?q=\",\"\",searchResult.get('href'))\n",
    "    print('タイトル：',title)\n",
    "    print('URL：',url)"
   ]
  },
  {
   "cell_type": "code",
   "execution_count": 18,
   "metadata": {},
   "outputs": [
    {
     "data": {
      "text/plain": [
       "[]"
      ]
     },
     "execution_count": 18,
     "metadata": {},
     "output_type": "execute_result"
    }
   ],
   "source": [
    "searchResults"
   ]
  },
  {
   "cell_type": "code",
   "execution_count": null,
   "metadata": {},
   "outputs": [],
   "source": [
    "\n",
    "cursor.execute('''SELECT *\n",
    "               FROM maptable\n",
    "               WHERE prefecture = '神奈川県' AND latitude is NULL ''')\n",
    "cols = [col.name for col in cursor.description]\n",
    "maptable_df = pd.DataFrame(cursor.fetchall(),columns=cols)\n",
    "display(maptable_df)\n",
    "\n",
    "\n",
    "\n"
   ]
  },
  {
   "cell_type": "code",
   "execution_count": 36,
   "metadata": {},
   "outputs": [
    {
     "ename": "InFailedSqlTransaction",
     "evalue": "current transaction is aborted, commands ignored until end of transaction block\n",
     "output_type": "error",
     "traceback": [
      "\u001b[1;31m---------------------------------------------------------------------------\u001b[0m",
      "\u001b[1;31mInFailedSqlTransaction\u001b[0m                    Traceback (most recent call last)",
      "Cell \u001b[1;32mIn[36], line 2\u001b[0m\n\u001b[0;32m      1\u001b[0m cursor \u001b[39m=\u001b[39m conn\u001b[39m.\u001b[39mcursor()\n\u001b[1;32m----> 2\u001b[0m cursor\u001b[39m.\u001b[39;49mexecute(\u001b[39m'''\u001b[39;49m\u001b[39mSELECT COUNT(DISTINCT 店舗名)\u001b[39;49m\n\u001b[0;32m      3\u001b[0m \u001b[39m               FROM parlar_data\u001b[39;49m\n\u001b[0;32m      4\u001b[0m \u001b[39m               WHERE 都道府県 = \u001b[39;49m\u001b[39m'\u001b[39;49m\u001b[39m神奈川県\u001b[39;49m\u001b[39m'\u001b[39;49m\u001b[39m or \u001b[39;49m\u001b[39m'\u001b[39;49m\u001b[39m埼玉県\u001b[39;49m\u001b[39m'\u001b[39;49m\u001b[39m \u001b[39;49m\u001b[39m'''\u001b[39;49m)\n\u001b[0;32m      5\u001b[0m cols \u001b[39m=\u001b[39m [col\u001b[39m.\u001b[39mname \u001b[39mfor\u001b[39;00m col \u001b[39min\u001b[39;00m cursor\u001b[39m.\u001b[39mdescription]\n\u001b[0;32m      6\u001b[0m maptable_df \u001b[39m=\u001b[39m pd\u001b[39m.\u001b[39mDataFrame(cursor\u001b[39m.\u001b[39mfetchall(),columns\u001b[39m=\u001b[39mcols)\n",
      "\u001b[1;31mInFailedSqlTransaction\u001b[0m: current transaction is aborted, commands ignored until end of transaction block\n"
     ]
    }
   ],
   "source": [
    "cursor = conn.cursor()\n",
    "cursor.execute('''SELECT COUNT(DISTINCT 店舗名)\n",
    "               FROM parlar_data\n",
    "               WHERE 都道府県 = '神奈川県' or '埼玉県' ''')\n",
    "cols = [col.name for col in cursor.description]\n",
    "maptable_df = pd.DataFrame(cursor.fetchall(),columns=cols)\n",
    "display(maptable_df)"
   ]
  },
  {
   "cell_type": "code",
   "execution_count": null,
   "metadata": {},
   "outputs": [],
   "source": [
    "cursor.execute('''SELECT * \n",
    "               FROM schedule \n",
    "               ORDER BY 取得時間 DESC\n",
    "               LIMIT 10''')\n",
    "cols = [col.name for col in cursor.description]\n",
    "schedule_df = pd.DataFrame(cursor.fetchall(),columns=cols)\n",
    "display(schedule_df)"
   ]
  }
 ],
 "metadata": {
  "kernelspec": {
   "display_name": ".venv",
   "language": "python",
   "name": "python3"
  },
  "language_info": {
   "codemirror_mode": {
    "name": "ipython",
    "version": 3
   },
   "file_extension": ".py",
   "mimetype": "text/x-python",
   "name": "python",
   "nbconvert_exporter": "python",
   "pygments_lexer": "ipython3",
   "version": "3.9.13"
  },
  "orig_nbformat": 4
 },
 "nbformat": 4,
 "nbformat_minor": 2
}
