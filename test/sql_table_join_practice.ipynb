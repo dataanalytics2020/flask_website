{
 "cells": [
  {
   "cell_type": "code",
   "execution_count": 1,
   "metadata": {},
   "outputs": [
    {
     "data": {
      "text/plain": [
       "True"
      ]
     },
     "execution_count": 1,
     "metadata": {},
     "output_type": "execute_result"
    }
   ],
   "source": [
    "from selenium import webdriver\n",
    "import time\n",
    "import pandas as pd\n",
    "import re\n",
    "from selenium.webdriver.common.by import By\n",
    "#from datetime import datetime, date, timedelta\n",
    "from selenium.webdriver.chrome.options import Options\n",
    "import requests\n",
    "import json\n",
    "\n",
    "from webdriver_manager.chrome import ChromeDriverManager\n",
    "import mysql\n",
    "import mysql.connector\n",
    "import os\n",
    "\n",
    "import datetime\n",
    "import unicodedata\n",
    "\n",
    "from dotenv import load_dotenv\n",
    "load_dotenv(\".env\")"
   ]
  },
  {
   "cell_type": "code",
   "execution_count": 37,
   "metadata": {},
   "outputs": [
    {
     "name": "stdout",
     "output_type": "stream",
     "text": [
      "2023-06-27 02:28:46.805637\n",
      "local bind port: 49718\n",
      "sql connection status: True\n"
     ]
    }
   ],
   "source": [
    "import sshtunnel\n",
    "from sshtunnel import SSHTunnelForwarder\n",
    "\n",
    "server = sshtunnel.SSHTunnelForwarder((os.getenv('SSH_USERNAME'), 10022), \n",
    "    ssh_username=\"pachislot777\", \n",
    "    ssh_private_key_password=os.getenv('SSH_PRIVATE_KEY_PASSWORD'), \n",
    "    ssh_pkey=\"sercret/akasaka.key\", \n",
    "    remote_bind_address=(\"mysql8055.xserver.jp\", 3306 )) \n",
    "# SSH接続確認\n",
    "\n",
    "\n",
    "# 現在時刻\n",
    "today = datetime.datetime.now()\n",
    "print(today)\n",
    "#[結果] 2021-08-23 07:12:20.806648\n",
    "# 1日後\n",
    "today_str:str = today.strftime('%Y-%m-%d')\n",
    "eight_days_after:str = (today + datetime.timedelta(days=8)).strftime('%Y-%m-%d')\n",
    "yesterday:str = (today + datetime.timedelta(days=-2)).strftime('%Y-%m-%d')\n",
    "#### Create dataframe from resultant table ####\n",
    "\n",
    "server.start()\n",
    "\n",
    "print(f\"local bind port: {server.local_bind_port}\")\n",
    "# データベース接続\n",
    "cnx = mysql.connector.connect(\n",
    "    host=\"localhost\", \n",
    "    port=server.local_bind_port, \n",
    "    user=os.getenv('WORDPRESS_DB_ID'), \n",
    "    password=os.getenv('DB_PASSWORD'), \n",
    "    database=os.getenv('WORDPRESS_DB_NAME'), \n",
    "    charset='utf8',\n",
    "    use_pure=True\n",
    "    )\n",
    "\n",
    "# 接続確認\n",
    "print(f\"sql connection status: {cnx.is_connected()}\")\n",
    "cursor = cnx.cursor()"
   ]
  },
  {
   "attachments": {},
   "cell_type": "markdown",
   "metadata": {},
   "source": [
    "### テーブルの数を数える"
   ]
  },
  {
   "cell_type": "code",
   "execution_count": 41,
   "metadata": {},
   "outputs": [
    {
     "name": "stdout",
     "output_type": "stream",
     "text": [
      "('maptable',)\n",
      "('parlar_data',)\n",
      "('pledge',)\n",
      "('schedule',)\n"
     ]
    }
   ],
   "source": [
    "cursor.execute(\"show tables;\")\n",
    "myresult = cursor.fetchall()\n",
    " \n",
    "for x in myresult:\n",
    "  print(x)"
   ]
  },
  {
   "cell_type": "code",
   "execution_count": 34,
   "metadata": {},
   "outputs": [
    {
     "name": "stdout",
     "output_type": "stream",
     "text": [
      "\n",
      "        SELECT *\n",
      "        FROM pledge\n",
      "        \n"
     ]
    },
    {
     "data": {
      "text/html": [
       "<div>\n",
       "<style scoped>\n",
       "    .dataframe tbody tr th:only-of-type {\n",
       "        vertical-align: middle;\n",
       "    }\n",
       "\n",
       "    .dataframe tbody tr th {\n",
       "        vertical-align: top;\n",
       "    }\n",
       "\n",
       "    .dataframe thead th {\n",
       "        text-align: right;\n",
       "    }\n",
       "</style>\n",
       "<table border=\"1\" class=\"dataframe\">\n",
       "  <thead>\n",
       "    <tr style=\"text-align: right;\">\n",
       "      <th></th>\n",
       "      <th>id</th>\n",
       "      <th>取材名</th>\n",
       "      <th>媒体名</th>\n",
       "      <th>公約内容</th>\n",
       "      <th>取得時間</th>\n",
       "    </tr>\n",
       "  </thead>\n",
       "  <tbody>\n",
       "    <tr>\n",
       "      <th>0</th>\n",
       "      <td>1</td>\n",
       "      <td>ｙｔｒ来店実践</td>\n",
       "      <td>SEVENSTV</td>\n",
       "      <td>来店実践</td>\n",
       "      <td>2023-03-16 03:56:31</td>\n",
       "    </tr>\n",
       "    <tr>\n",
       "      <th>1</th>\n",
       "      <td>2</td>\n",
       "      <td>Ａレポート</td>\n",
       "      <td>アツ姫</td>\n",
       "      <td>Aタイプに高設定投入</td>\n",
       "      <td>2023-03-16 03:56:31</td>\n",
       "    </tr>\n",
       "    <tr>\n",
       "      <th>2</th>\n",
       "      <td>3</td>\n",
       "      <td>黒バラの極意(来店ver)</td>\n",
       "      <td>ジャンバリ.TV</td>\n",
       "      <td></td>\n",
       "      <td>2023-03-16 03:56:31</td>\n",
       "    </tr>\n",
       "    <tr>\n",
       "      <th>3</th>\n",
       "      <td>4</td>\n",
       "      <td>鮮魚レポート</td>\n",
       "      <td>アメスロ</td>\n",
       "      <td></td>\n",
       "      <td>2023-03-16 03:56:31</td>\n",
       "    </tr>\n",
       "    <tr>\n",
       "      <th>4</th>\n",
       "      <td>5</td>\n",
       "      <td>魔法少女レポート スロット取材</td>\n",
       "      <td>爆ガチ！</td>\n",
       "      <td>まどかマギカシリーズが狙い目</td>\n",
       "      <td>2023-03-16 03:56:31</td>\n",
       "    </tr>\n",
       "    <tr>\n",
       "      <th>...</th>\n",
       "      <td>...</td>\n",
       "      <td>...</td>\n",
       "      <td>...</td>\n",
       "      <td>...</td>\n",
       "      <td>...</td>\n",
       "    </tr>\n",
       "    <tr>\n",
       "      <th>2126</th>\n",
       "      <td>101375</td>\n",
       "      <td>しおねえ来店</td>\n",
       "      <td>エースプロ</td>\n",
       "      <td>None</td>\n",
       "      <td>2023-06-17 09:30:52</td>\n",
       "    </tr>\n",
       "    <tr>\n",
       "      <th>2127</th>\n",
       "      <td>101376</td>\n",
       "      <td>星のパチは友を呼ぶ</td>\n",
       "      <td>パチとスロは友を呼ぶ</td>\n",
       "      <td>None</td>\n",
       "      <td>2023-06-18 09:25:03</td>\n",
       "    </tr>\n",
       "    <tr>\n",
       "      <th>2128</th>\n",
       "      <td>101377</td>\n",
       "      <td>シーサ。の法則</td>\n",
       "      <td>P-martTV</td>\n",
       "      <td>None</td>\n",
       "      <td>2023-06-24 01:48:28</td>\n",
       "    </tr>\n",
       "    <tr>\n",
       "      <th>2129</th>\n",
       "      <td>101378</td>\n",
       "      <td>ジョージ来店</td>\n",
       "      <td>その他取材・企画</td>\n",
       "      <td>None</td>\n",
       "      <td>2023-06-24 01:48:28</td>\n",
       "    </tr>\n",
       "    <tr>\n",
       "      <th>2130</th>\n",
       "      <td>101379</td>\n",
       "      <td>萌えジャックNEO</td>\n",
       "      <td>アツ姫</td>\n",
       "      <td>None</td>\n",
       "      <td>2023-06-24 01:48:28</td>\n",
       "    </tr>\n",
       "  </tbody>\n",
       "</table>\n",
       "<p>2131 rows × 5 columns</p>\n",
       "</div>"
      ],
      "text/plain": [
       "          id              取材名         媒体名            公約内容                取得時間\n",
       "0          1          ｙｔｒ来店実践    SEVENSTV            来店実践 2023-03-16 03:56:31\n",
       "1          2            Ａレポート         アツ姫      Aタイプに高設定投入 2023-03-16 03:56:31\n",
       "2          3    黒バラの極意(来店ver)    ジャンバリ.TV                 2023-03-16 03:56:31\n",
       "3          4           鮮魚レポート        アメスロ                 2023-03-16 03:56:31\n",
       "4          5  魔法少女レポート スロット取材        爆ガチ！  まどかマギカシリーズが狙い目 2023-03-16 03:56:31\n",
       "...      ...              ...         ...             ...                 ...\n",
       "2126  101375           しおねえ来店       エースプロ            None 2023-06-17 09:30:52\n",
       "2127  101376        星のパチは友を呼ぶ  パチとスロは友を呼ぶ            None 2023-06-18 09:25:03\n",
       "2128  101377          シーサ。の法則    P-martTV            None 2023-06-24 01:48:28\n",
       "2129  101378           ジョージ来店    その他取材・企画            None 2023-06-24 01:48:28\n",
       "2130  101379        萌えジャックNEO         アツ姫            None 2023-06-24 01:48:28\n",
       "\n",
       "[2131 rows x 5 columns]"
      ]
     },
     "execution_count": 34,
     "metadata": {},
     "output_type": "execute_result"
    }
   ],
   "source": [
    "sql = f\"\"\"\n",
    "        SELECT *\n",
    "        FROM pledge\n",
    "        \"\"\"\n",
    "print(sql)\n",
    "cursor.execute(sql)\n",
    "#cols = [col[0] for col in cursor.description]\n",
    "sql_syuzai_report_all_df = pd.DataFrame(cursor.fetchall(),columns = ['id','取材名','媒体名','公約内容','取得時間'])\n",
    "sql_syuzai_report_all_df"
   ]
  },
  {
   "cell_type": "code",
   "execution_count": 35,
   "metadata": {},
   "outputs": [
    {
     "name": "stdout",
     "output_type": "stream",
     "text": [
      "None\n"
     ]
    }
   ],
   "source": [
    "print(cursor.execute(sql))"
   ]
  }
 ],
 "metadata": {
  "kernelspec": {
   "display_name": ".venv",
   "language": "python",
   "name": "python3"
  },
  "language_info": {
   "codemirror_mode": {
    "name": "ipython",
    "version": 3
   },
   "file_extension": ".py",
   "mimetype": "text/x-python",
   "name": "python",
   "nbconvert_exporter": "python",
   "pygments_lexer": "ipython3",
   "version": "3.9.13"
  },
  "orig_nbformat": 4
 },
 "nbformat": 4,
 "nbformat_minor": 2
}
