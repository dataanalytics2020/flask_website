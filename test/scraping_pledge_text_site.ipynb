{
 "cells": [
  {
   "cell_type": "code",
   "execution_count": 55,
   "metadata": {},
   "outputs": [
    {
     "name": "stdout",
     "output_type": "stream",
     "text": [
      "85 error list index out of range [<li class=\"red-line-research\"></li>]\n",
      "121 error list index out of range [<li class=\"red-line-research\"></li>]\n",
      "125 error list index out of range [<li class=\"red-line-research\"></li>]\n",
      "130 error list index out of range [<li class=\"red-line-research\"></li>]\n",
      "146 error list index out of range [<li class=\"red-line-research\"></li>]\n",
      "153 error list index out of range [<li class=\"red-line-research\"></li>]\n",
      "157 error list index out of range [<li class=\"red-line-research\"></li>]\n",
      "172 error list index out of range [<li class=\"red-line-research\"></li>]\n",
      "184 error list index out of range [<li class=\"red-line-research\"></li>]\n",
      "186 error list index out of range [<li class=\"red-line-research\"></li>]\n",
      "208 error list index out of range [<li class=\"red-line-research\"></li>]\n",
      "258 error list index out of range [<li class=\"red-line-research\"></li>]\n",
      "261 error list index out of range [<li class=\"red-line-research\"></li>]\n",
      "272 error list index out of range [<li class=\"red-line-research\"></li>]\n",
      "285 error list index out of range [<li class=\"red-line-research\"></li>]\n",
      "305 error list index out of range [<li class=\"red-line-research\"></li>]\n",
      "307 error list index out of range [<li class=\"red-line-research\"></li>]\n",
      "315 error list index out of range [<li class=\"red-line-research\"></li>]\n",
      "327 error list index out of range [<li class=\"red-line-research\"></li>]\n",
      "338 error list index out of range [<li class=\"red-line-research\"></li>]\n",
      "348 error list index out of range [<li class=\"red-line-research\"></li>]\n",
      "352 error list index out of range [<li class=\"red-line-research\"></li>]\n",
      "358 error list index out of range [<li class=\"red-line-research\"></li>]\n",
      "429 error list index out of range [<li class=\"red-line-research\"></li>]\n",
      "431 error list index out of range [<li class=\"red-line-research\"></li>]\n",
      "487 error list index out of range [<li class=\"red-line-research\"></li>]\n",
      "489 error list index out of range [<li class=\"red-line-research\"></li>]\n",
      "507 error list index out of range [<li class=\"red-line-research\"></li>]\n",
      "520 error list index out of range [<li class=\"red-line-research\"></li>]\n",
      "527 error list index out of range [<li class=\"red-line-research\"></li>]\n",
      "531 error list index out of range [<li class=\"red-line-research\"></li>]\n",
      "535 error list index out of range [<li class=\"red-line-research\"></li>]\n",
      "569 error list index out of range [<li class=\"red-line-research\"></li>]\n",
      "572 error list index out of range [<li class=\"red-line-research\"></li>]\n",
      "581 error list index out of range [<li class=\"red-line-research\"></li>]\n",
      "615 error list index out of range [<li class=\"red-line-research\"></li>]\n",
      "625 error list index out of range [<li class=\"red-line-research\"></li>]\n",
      "631 error list index out of range [<li class=\"red-line-research\"></li>]\n",
      "633 error list index out of range [<li class=\"red-line-research\"></li>]\n",
      "639 error list index out of range [<li class=\"red-line-research\"></li>]\n",
      "651 error list index out of range [<li class=\"red-line-research\"></li>]\n",
      "653 error list index out of range [<li class=\"red-line-research\"></li>]\n"
     ]
    },
    {
     "data": {
      "text/html": [
       "<div>\n",
       "<style scoped>\n",
       "    .dataframe tbody tr th:only-of-type {\n",
       "        vertical-align: middle;\n",
       "    }\n",
       "\n",
       "    .dataframe tbody tr th {\n",
       "        vertical-align: top;\n",
       "    }\n",
       "\n",
       "    .dataframe thead th {\n",
       "        text-align: right;\n",
       "    }\n",
       "</style>\n",
       "<table border=\"1\" class=\"dataframe\">\n",
       "  <thead>\n",
       "    <tr style=\"text-align: right;\">\n",
       "      <th></th>\n",
       "      <th>media_name</th>\n",
       "      <th>syuzai_name</th>\n",
       "      <th>pledge_text</th>\n",
       "    </tr>\n",
       "  </thead>\n",
       "  <tbody>\n",
       "    <tr>\n",
       "      <th>0</th>\n",
       "      <td>アツ姫</td>\n",
       "      <td>満点STARKewlスタークール</td>\n",
       "      <td>3台以上連番3箇所以上が機械割100%以上</td>\n",
       "    </tr>\n",
       "    <tr>\n",
       "      <th>0</th>\n",
       "      <td>アツ姫</td>\n",
       "      <td>満天STARZealスタージール</td>\n",
       "      <td>3台以上2機種以上が機械割100%以上</td>\n",
       "    </tr>\n",
       "    <tr>\n",
       "      <th>0</th>\n",
       "      <td>アツ姫</td>\n",
       "      <td>満天STARJoyスタージョイ（ジャグラー対象）</td>\n",
       "      <td>ジャグラー3機種以上が機械割100%以上</td>\n",
       "    </tr>\n",
       "    <tr>\n",
       "      <th>0</th>\n",
       "      <td>アツ姫</td>\n",
       "      <td>満天STARVigorスタービゴア</td>\n",
       "      <td>バラエティーコーナー対象。機械割100%以上</td>\n",
       "    </tr>\n",
       "    <tr>\n",
       "      <th>0</th>\n",
       "      <td>アツ姫</td>\n",
       "      <td>GPLギガプレミアムレジェンド</td>\n",
       "      <td>構成3台以上3機種以上に全456+総台数10％に6+設置3台以上の1機種に全6+5台並び3カ...</td>\n",
       "    </tr>\n",
       "    <tr>\n",
       "      <th>...</th>\n",
       "      <td>...</td>\n",
       "      <td>...</td>\n",
       "      <td>...</td>\n",
       "    </tr>\n",
       "    <tr>\n",
       "      <th>0</th>\n",
       "      <td>肉はこう焼く！（エースプロ）</td>\n",
       "      <td>パチンコ　肉はこう焼く！タン</td>\n",
       "      <td>角台系</td>\n",
       "    </tr>\n",
       "    <tr>\n",
       "      <th>0</th>\n",
       "      <td>肉はこう焼く！（エースプロ）</td>\n",
       "      <td>パチンコ　肉はこう焼く！イチボ</td>\n",
       "      <td>1機種ボーダー以上</td>\n",
       "    </tr>\n",
       "    <tr>\n",
       "      <th>0</th>\n",
       "      <td>アナコンダ</td>\n",
       "      <td>アナコンダ</td>\n",
       "      <td>ハナハナシリーズ1/3が5.6</td>\n",
       "    </tr>\n",
       "    <tr>\n",
       "      <th>0</th>\n",
       "      <td>回胴連（KAIDOREN かいどうれん）</td>\n",
       "      <td>回胴連トライデント</td>\n",
       "      <td>設置3台以上機種の3機種以上全5.6</td>\n",
       "    </tr>\n",
       "    <tr>\n",
       "      <th>0</th>\n",
       "      <td>回胴連（KAIDOREN かいどうれん）</td>\n",
       "      <td>回胴連トライデント連</td>\n",
       "      <td>3台以上並びで3カ所以上5.6</td>\n",
       "    </tr>\n",
       "  </tbody>\n",
       "</table>\n",
       "<p>614 rows × 3 columns</p>\n",
       "</div>"
      ],
      "text/plain": [
       "              media_name               syuzai_name   \n",
       "0                    アツ姫          満点STARKewlスタークール  \\\n",
       "0                    アツ姫          満天STARZealスタージール   \n",
       "0                    アツ姫  満天STARJoyスタージョイ（ジャグラー対象）   \n",
       "0                    アツ姫         満天STARVigorスタービゴア   \n",
       "0                    アツ姫           GPLギガプレミアムレジェンド   \n",
       "..                   ...                       ...   \n",
       "0         肉はこう焼く！（エースプロ）            パチンコ　肉はこう焼く！タン   \n",
       "0         肉はこう焼く！（エースプロ）           パチンコ　肉はこう焼く！イチボ   \n",
       "0                  アナコンダ                     アナコンダ   \n",
       "0   回胴連（KAIDOREN かいどうれん）                 回胴連トライデント   \n",
       "0   回胴連（KAIDOREN かいどうれん）                回胴連トライデント連   \n",
       "\n",
       "                                          pledge_text  \n",
       "0                               3台以上連番3箇所以上が機械割100%以上  \n",
       "0                                 3台以上2機種以上が機械割100%以上  \n",
       "0                                ジャグラー3機種以上が機械割100%以上  \n",
       "0                              バラエティーコーナー対象。機械割100%以上  \n",
       "0   構成3台以上3機種以上に全456+総台数10％に6+設置3台以上の1機種に全6+5台並び3カ...  \n",
       "..                                                ...  \n",
       "0                                                 角台系  \n",
       "0                                           1機種ボーダー以上  \n",
       "0                                     ハナハナシリーズ1/3が5.6  \n",
       "0                                  設置3台以上機種の3機種以上全5.6  \n",
       "0                                     3台以上並びで3カ所以上5.6  \n",
       "\n",
       "[614 rows x 3 columns]"
      ]
     },
     "execution_count": 55,
     "metadata": {},
     "output_type": "execute_result"
    }
   ],
   "source": [
    "import pandas as pd\n",
    "import datetime\n",
    "import time\n",
    "import unicodedata\n",
    "import string\n",
    "import requests\n",
    "import os\n",
    "\n",
    "from selenium import webdriver\n",
    "from selenium.webdriver.common.keys import Keys\n",
    "from selenium.common.exceptions import NoSuchElementException\n",
    "from selenium.webdriver.chrome.options import Options\n",
    "from webdriver_manager.chrome import ChromeDriverManager\n",
    "from bs4 import BeautifulSoup\n",
    "\n",
    "import pandas as pd\n",
    "import datetime\n",
    "\n",
    "import os\n",
    "# .env ファイルをロードして環境変数へ反映\n",
    "from dotenv import load_dotenv\n",
    "load_dotenv('.env')\n",
    "# 環境変数を参照\n",
    "\n",
    "def removal_text(text):\n",
    "    text = unicodedata.normalize(\"NFKC\", text)\n",
    "    text = text.translate(str.maketrans( '', '',string.punctuation  + '！'+ '　'+ ' '+'・'+'～' + '‐'))\n",
    "    return text\n",
    "\n",
    "def post_line_text(message,token):\n",
    "    url = \"https://notify-api.line.me/api/notify\"\n",
    "    headers = {\"Authorization\" : \"Bearer \"+ token}\n",
    "    payload = {\"message\" :  message}\n",
    "    post = requests.post(url ,headers = headers ,params=payload) \n",
    "\n",
    "def post_line_text_and_image(message,image_path,token):\n",
    "    url = \"https://notify-api.line.me/api/notify\"\n",
    "    headers = {\"Authorization\" : \"Bearer \"+ token}\n",
    "    payload = {\"message\" :  message}\n",
    "    #imagesフォルダの中のgazo.jpg\n",
    "    print('image_path',image_path)\n",
    "    files = {\"imageFile\":open(image_path,'rb')}\n",
    "    post = requests.post(url ,headers = headers ,params=payload,files=files) \n",
    "\n",
    "def insert_data_bulk(df,cnx):\n",
    "    insert_sql = f\"\"\"INSERT INTO {os.getenv('WORDPRESS_DB_TABLE')}(店舗名, 日付, Nのつく日, 都道府県, 機種名, 台番号, G数, 差枚, BB, RB,ART, BB確率, RB確率, ART確率, 合成確率) values (%s,%s,%s,%s,%s,%s,%s,%s,%s,%s,%s,%s,%s,%s,%s)\"\"\"\n",
    "    cur = cnx.cursor()\n",
    "    cur.executemany(insert_sql, df.values.tolist())\n",
    "    cnx.commit()\n",
    "    print(\"Insert bulk data\")\n",
    "\n",
    "def delete_data(cnx,day):\n",
    "    cursor = cnx.cursor()\n",
    "    target_days_ago = datetime.date.today() - datetime.timedelta(days=day)\n",
    "    target_days_ago_str = target_days_ago.strftime('%Y-%m-%d')\n",
    "    target_days_ago_str\n",
    "    sql = f\"DELETE FROM {os.getenv('WORDPRESS_DB_TABLE')} WHERE 日付 < '{target_days_ago_str} 00:00:00';\"\n",
    "    cursor.execute(sql)\n",
    "    cnx.commit()\n",
    "\n",
    "prefecture_list = ['鳥取県']#,'東京都''静岡県','岐阜県','愛知県','三重県'\n",
    "line_token = os.getenv('LINE_TOKEN')\n",
    "#cols = ['機種名', '台番号', 'G数', '差枚', 'BB', 'RB', 'ART', 'BB確率', 'RB確率', 'ART確率','合成確率','店舗名']\n",
    "ichiran_all_tennpo_df = pd.DataFrame(index=[], columns=[])\n",
    "#print(line_token)\n",
    "\n",
    "\n",
    "url = f'https://nanaasu.com/research/'\n",
    "res = requests.get(url)\n",
    "soup = BeautifulSoup(res.text, 'html.parser')\n",
    "\n",
    "\n",
    "\n",
    "block = soup.find('div',class_='research-block')\n",
    "#print(block.prettify())\n",
    "pledge_df = pd.DataFrame(index=[], columns=['media_name','syuzai_name','pledge_text'])\n",
    "ul_list = block.find_all('ul')\n",
    "for i,ul in enumerate(ul_list[1:-14]):\n",
    "    try:\n",
    "        li_list = ul.find_all('li')\n",
    "        media_name = str(li_list).split('<br/>')[0].replace('[<li>','')\n",
    "        #print(media_name)\n",
    "        syuzai_name = ''\n",
    "        for t in str(li_list).split('<br/>')[1].split('</li>')[0]:\n",
    "            syuzai_name += t + ' '\n",
    "        syuzai_name = syuzai_name.replace(' ','')\n",
    "        #print(syuzai_name)\n",
    "        pledge_text =  str(li_list).split(' <li>')[1].split('<br/>')[0].replace('</li>]','')\n",
    "        #print(pledge_text)\n",
    "        record = pd.DataFrame([[media_name,syuzai_name,pledge_text]], columns=['media_name','syuzai_name','pledge_text'])\n",
    "        pledge_df = pd.concat([pledge_df, record],axis=0)\n",
    "    except Exception as e:\n",
    "        print(i,'error',e,str(li_list))\n",
    "        continue\n",
    "    #break\n",
    "\n",
    "\n",
    "\n",
    "\n",
    "pledge_df"
   ]
  },
  {
   "cell_type": "code",
   "execution_count": 53,
   "metadata": {},
   "outputs": [
    {
     "data": {
      "text/plain": [
       "'[<li>回胴連（KAIDOREN かいどうれん）<br/>回胴連トライデント連</li>, <li>3台以上並びで3カ所以上5.6</li>]'"
      ]
     },
     "execution_count": 53,
     "metadata": {},
     "output_type": "execute_result"
    }
   ],
   "source": [
    "str(li_list)"
   ]
  },
  {
   "cell_type": "code",
   "execution_count": 45,
   "metadata": {},
   "outputs": [
    {
     "data": {
      "text/plain": [
       "syuzai_name\n",
       "                  451\n",
       "パチスロ　肉はこう焼く！        7\n",
       "パチンコ　肉はこう焼く！        4\n",
       "REAL                2\n",
       "満天STAR              2\n",
       "                 ... \n",
       "NEW GENERATION      1\n",
       "Niziyou◎！           1\n",
       "OUROBOROS           1\n",
       "P-1                 1\n",
       "鬼滅女子                1\n",
       "Name: count, Length: 159, dtype: int64"
      ]
     },
     "execution_count": 45,
     "metadata": {},
     "output_type": "execute_result"
    }
   ],
   "source": [
    "pledge_df.value_counts('syuzai_name')"
   ]
  },
  {
   "cell_type": "code",
   "execution_count": 44,
   "metadata": {},
   "outputs": [
    {
     "data": {
      "text/plain": [
       "[<ul id=\"atsuhime94\">\n",
       " <li>アツ姫<br/>平日REVOLUTION</li>\n",
       " <li>詳細は調査中</li>\n",
       " </ul>,\n",
       " <ul id=\"atsuhime95\">\n",
       " <li>アツ姫<br/>武勇伝NEO</li>\n",
       " <li>設置台数の11%が5.6<br/>\n",
       " ※5.6は均等配分</li>\n",
       " </ul>,\n",
       " <ul>\n",
       " <li class=\"red-line-research\"></li>\n",
       " </ul>]"
      ]
     },
     "execution_count": 44,
     "metadata": {},
     "output_type": "execute_result"
    }
   ],
   "source": [
    "ul_list[84:87]"
   ]
  },
  {
   "cell_type": "code",
   "execution_count": 38,
   "metadata": {},
   "outputs": [
    {
     "name": "stdout",
     "output_type": "stream",
     "text": [
      "満点STAR Kewl\n"
     ]
    }
   ],
   "source": [
    "syuzai_name = ''\n",
    "for t in str(li_list).split('<br/>')[1].split('</li>')[0].split(' ')[:-1]:\n",
    "    syuzai_name += t + ' '\n",
    "syuzai_name = syuzai_name.rstrip(' ')\n",
    "print(syuzai_name)"
   ]
  },
  {
   "cell_type": "code",
   "execution_count": 22,
   "metadata": {},
   "outputs": [
    {
     "data": {
      "text/plain": [
       "'[<li>アツ姫<br/>満点STAR Kewl スタークール</li>, <li>3台以上連番3箇所以上が機械割100%以上<br/>\\n            もしくは<br/>\\n            3台以上並びで4カ所以上高設定\\n            </li>]'"
      ]
     },
     "execution_count": 22,
     "metadata": {},
     "output_type": "execute_result"
    }
   ],
   "source": [
    "str(li_list)"
   ]
  }
 ],
 "metadata": {
  "kernelspec": {
   "display_name": ".venv",
   "language": "python",
   "name": "python3"
  },
  "language_info": {
   "codemirror_mode": {
    "name": "ipython",
    "version": 3
   },
   "file_extension": ".py",
   "mimetype": "text/x-python",
   "name": "python",
   "nbconvert_exporter": "python",
   "pygments_lexer": "ipython3",
   "version": "3.9.13"
  }
 },
 "nbformat": 4,
 "nbformat_minor": 2
}
