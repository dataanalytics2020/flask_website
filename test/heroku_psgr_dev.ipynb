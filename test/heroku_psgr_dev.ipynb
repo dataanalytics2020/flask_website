{
 "cells": [
  {
   "cell_type": "markdown",
   "metadata": {},
   "source": [
    "### HEROKUのポスグレの接続テスト"
   ]
  },
  {
   "cell_type": "code",
   "execution_count": null,
   "metadata": {},
   "outputs": [],
   "source": [
    "import psycopg2\n",
    "import os\n",
    "from dotenv import load_dotenv\n",
    "load_dotenv()\n",
    "\n",
    "users = os.getenv('HEROKU_PSGR_USER')    # DBにアクセスするユーザー名(適宜変更)\n",
    "dbnames = os.getenv('HEROKU_PSGR_DATABASE')   # 接続するデータベース名(適宜変更)\n",
    "passwords = os.getenv('HEROKU_PSGR_PASSWORD')  # DBにアクセスするユーザーのパスワード(適宜変更)\n",
    "host = os.getenv('HEROKU_PSGR_HOST')     # DBが稼働しているホスト名(適宜変更)\n",
    "port = 5432        # DBが稼働しているポート番号(適宜変更)\n",
    "\n",
    "# PostgreSQLへ接続\n",
    "conn = psycopg2.connect(\"user=\" + users +\" dbname=\" + dbnames +\" password=\" + passwords, host=host, port=port)\n",
    "\n",
    "# PostgreSQLにデータ登録\n",
    "cursor = conn.cursor()\n"
   ]
  },
  {
   "cell_type": "code",
   "execution_count": null,
   "metadata": {},
   "outputs": [],
   "source": [
    "import pandas as pd\n",
    "\n",
    "cursor.execute('''SELECT * FROM maptable LIMIT 10''')\n",
    "cols = [col.name for col in cursor.description]\n",
    "maptable_df = pd.DataFrame(cursor.fetchall(),columns=cols)\n",
    "display(maptable_df)\n",
    "\n",
    "cursor.execute('''SELECT * \n",
    "               FROM schedule \n",
    "               ORDER BY 取得時間 DESC\n",
    "               LIMIT 10''')\n",
    "cols = [col.name for col in cursor.description]\n",
    "schedule_df = pd.DataFrame(cursor.fetchall(),columns=cols)\n",
    "display(schedule_df)\n",
    "\n"
   ]
  }
 ],
 "metadata": {
  "language_info": {
   "name": "python"
  },
  "orig_nbformat": 4
 },
 "nbformat": 4,
 "nbformat_minor": 2
}
