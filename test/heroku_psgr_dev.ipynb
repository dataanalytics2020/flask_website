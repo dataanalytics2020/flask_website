{
 "cells": [
  {
   "cell_type": "markdown",
   "metadata": {},
   "source": [
    "### HEROKUのポスグレの接続テスト"
   ]
  },
  {
   "cell_type": "code",
   "execution_count": 232,
   "metadata": {},
   "outputs": [],
   "source": [
    "import psycopg2\n",
    "import os\n",
    "from dotenv import load_dotenv\n",
    "import pandas as pd\n",
    "load_dotenv()\n",
    "\n",
    "users = os.getenv('HEROKU_PSGR_USER')    # DBにアクセスするユーザー名(適宜変更)\n",
    "dbnames = os.getenv('HEROKU_PSGR_DATABASE')   # 接続するデータベース名(適宜変更)\n",
    "passwords = os.getenv('HEROKU_PSGR_PASSWORD')  # DBにアクセスするユーザーのパスワード(適宜変更)\n",
    "host = os.getenv('HEROKU_PSGR_HOST')     # DBが稼働しているホスト名(適宜変更)\n",
    "port = 5432        # DBが稼働しているポート番号(適宜変更)\n",
    "\n",
    "# PostgreSQLへ接続\n",
    "conn = psycopg2.connect(\"user=\" + users +\" dbname=\" + dbnames +\" password=\" + passwords, host=host, port=port)\n",
    "\n",
    "# カーソルを取得する\n",
    "cursor = conn.cursor()\n",
    "\n",
    "\n",
    "\n",
    "#自動コミットモードにする\n",
    "\n",
    "# conn.autocommit = True\n",
    "# conn.autocommit"
   ]
  },
  {
   "cell_type": "code",
   "execution_count": 234,
   "metadata": {},
   "outputs": [
    {
     "data": {
      "text/html": [
       "<div>\n",
       "<style scoped>\n",
       "    .dataframe tbody tr th:only-of-type {\n",
       "        vertical-align: middle;\n",
       "    }\n",
       "\n",
       "    .dataframe tbody tr th {\n",
       "        vertical-align: top;\n",
       "    }\n",
       "\n",
       "    .dataframe thead th {\n",
       "        text-align: right;\n",
       "    }\n",
       "</style>\n",
       "<table border=\"1\" class=\"dataframe\">\n",
       "  <thead>\n",
       "    <tr style=\"text-align: right;\">\n",
       "      <th></th>\n",
       "      <th>店舗名／法人名</th>\n",
       "      <th>都道府県</th>\n",
       "      <th>緯度</th>\n",
       "      <th>経度</th>\n",
       "      <th>住所(ホールデータ)</th>\n",
       "    </tr>\n",
       "  </thead>\n",
       "  <tbody>\n",
       "  </tbody>\n",
       "</table>\n",
       "</div>"
      ],
      "text/plain": [
       "Empty DataFrame\n",
       "Columns: [店舗名／法人名, 都道府県, 緯度, 経度, 住所(ホールデータ)]\n",
       "Index: []"
      ]
     },
     "execution_count": 234,
     "metadata": {},
     "output_type": "execute_result"
    }
   ],
   "source": [
    "cursor.execute('''SELECT 店舗名／法人名, 都道府県,  緯度, 経度 , \"住所(ホールデータ)\"\n",
    "               FROM tenpo_master\n",
    "               WHERE 都道府県 = '神奈川県' \n",
    "               AND 経度 is NULL \n",
    "               OR 都道府県 = '東京都'\n",
    "               AND 経度 is NULL\n",
    "                OR 都道府県 = '埼玉県'\n",
    "               AND 経度 is NULL\n",
    "                OR 都道府県 = '千葉県'\n",
    "               AND 経度 is NULL\n",
    "               ORDER BY 都道府県''')\n",
    "cols = [col.name for col in cursor.description]\n",
    "df = pd.DataFrame(cursor.fetchall(),columns=cols)\n",
    "df"
   ]
  },
  {
   "cell_type": "code",
   "execution_count": 233,
   "metadata": {},
   "outputs": [],
   "source": [
    "cursor.execute('''DELETE FROM tenpo_master\n",
    "               WHERE 都道府県 = '神奈川県' \n",
    "               AND 経度 is NULL \n",
    "               OR 都道府県 = '東京都'\n",
    "               AND 経度 is NULL\n",
    "                OR 都道府県 = '埼玉県'\n",
    "               AND 経度 is NULL\n",
    "                OR 都道府県 = '千葉県'\n",
    "               AND 経度 is NULL''')\n",
    "conn.commit()"
   ]
  },
  {
   "cell_type": "code",
   "execution_count": 235,
   "metadata": {},
   "outputs": [
    {
     "data": {
      "text/html": [
       "<div>\n",
       "<style scoped>\n",
       "    .dataframe tbody tr th:only-of-type {\n",
       "        vertical-align: middle;\n",
       "    }\n",
       "\n",
       "    .dataframe tbody tr th {\n",
       "        vertical-align: top;\n",
       "    }\n",
       "\n",
       "    .dataframe thead th {\n",
       "        text-align: right;\n",
       "    }\n",
       "</style>\n",
       "<table border=\"1\" class=\"dataframe\">\n",
       "  <thead>\n",
       "    <tr style=\"text-align: right;\">\n",
       "      <th></th>\n",
       "      <th>店舗名／法人名</th>\n",
       "      <th>都道府県</th>\n",
       "      <th>緯度</th>\n",
       "      <th>経度</th>\n",
       "    </tr>\n",
       "  </thead>\n",
       "  <tbody>\n",
       "    <tr>\n",
       "      <th>0</th>\n",
       "      <td>ひまわり北上店</td>\n",
       "      <td>岩手県</td>\n",
       "      <td>None</td>\n",
       "      <td>None</td>\n",
       "    </tr>\n",
       "    <tr>\n",
       "      <th>1</th>\n",
       "      <td>グランキコーナ泉佐野店</td>\n",
       "      <td>大阪府</td>\n",
       "      <td>None</td>\n",
       "      <td>None</td>\n",
       "    </tr>\n",
       "    <tr>\n",
       "      <th>2</th>\n",
       "      <td>パチンコジャンボ</td>\n",
       "      <td></td>\n",
       "      <td>None</td>\n",
       "      <td>None</td>\n",
       "    </tr>\n",
       "    <tr>\n",
       "      <th>3</th>\n",
       "      <td>APAN CLUB トガリ店</td>\n",
       "      <td>愛知県</td>\n",
       "      <td>None</td>\n",
       "      <td>None</td>\n",
       "    </tr>\n",
       "    <tr>\n",
       "      <th>4</th>\n",
       "      <td>メガガイア上越</td>\n",
       "      <td>新潟県</td>\n",
       "      <td>None</td>\n",
       "      <td>None</td>\n",
       "    </tr>\n",
       "    <tr>\n",
       "      <th>...</th>\n",
       "      <td>...</td>\n",
       "      <td>...</td>\n",
       "      <td>...</td>\n",
       "      <td>...</td>\n",
       "    </tr>\n",
       "    <tr>\n",
       "      <th>208</th>\n",
       "      <td>トキワホール</td>\n",
       "      <td></td>\n",
       "      <td>None</td>\n",
       "      <td>None</td>\n",
       "    </tr>\n",
       "    <tr>\n",
       "      <th>209</th>\n",
       "      <td>パーラーデルダス</td>\n",
       "      <td></td>\n",
       "      <td>None</td>\n",
       "      <td>None</td>\n",
       "    </tr>\n",
       "    <tr>\n",
       "      <th>210</th>\n",
       "      <td>Super D’station前橋大利根店</td>\n",
       "      <td>群馬県</td>\n",
       "      <td>None</td>\n",
       "      <td>None</td>\n",
       "    </tr>\n",
       "    <tr>\n",
       "      <th>211</th>\n",
       "      <td>yout小牧店</td>\n",
       "      <td>愛知県</td>\n",
       "      <td>None</td>\n",
       "      <td>None</td>\n",
       "    </tr>\n",
       "    <tr>\n",
       "      <th>212</th>\n",
       "      <td>ガーデン松戸金ケ作</td>\n",
       "      <td></td>\n",
       "      <td>None</td>\n",
       "      <td>None</td>\n",
       "    </tr>\n",
       "  </tbody>\n",
       "</table>\n",
       "<p>213 rows × 4 columns</p>\n",
       "</div>"
      ],
      "text/plain": [
       "                   店舗名／法人名 都道府県    緯度    経度\n",
       "0                  ひまわり北上店  岩手県  None  None\n",
       "1              グランキコーナ泉佐野店  大阪府  None  None\n",
       "2                 パチンコジャンボ       None  None\n",
       "3           APAN CLUB トガリ店  愛知県  None  None\n",
       "4                  メガガイア上越  新潟県  None  None\n",
       "..                     ...  ...   ...   ...\n",
       "208                 トキワホール       None  None\n",
       "209               パーラーデルダス       None  None\n",
       "210  Super D’station前橋大利根店  群馬県  None  None\n",
       "211                yout小牧店  愛知県  None  None\n",
       "212              ガーデン松戸金ケ作       None  None\n",
       "\n",
       "[213 rows x 4 columns]"
      ]
     },
     "execution_count": 235,
     "metadata": {},
     "output_type": "execute_result"
    }
   ],
   "source": [
    "cursor.execute('''SELECT 店舗名／法人名, 都道府県,  緯度, 経度\n",
    "               FROM tenpo_master\n",
    "               WHERE 経度 is NULL ''')\n",
    "cols = [col.name for col in cursor.description]\n",
    "df = pd.DataFrame(cursor.fetchall(),columns=cols)\n",
    "df"
   ]
  },
  {
   "cell_type": "code",
   "execution_count": 190,
   "metadata": {},
   "outputs": [
    {
     "data": {
      "text/plain": [
       "'ＳＬＯＴ\\u3000Ｇ８'"
      ]
     },
     "execution_count": 190,
     "metadata": {},
     "output_type": "execute_result"
    }
   ],
   "source": [
    "dmm_tenpo_name"
   ]
  },
  {
   "cell_type": "code",
   "execution_count": 222,
   "metadata": {},
   "outputs": [
    {
     "data": {
      "text/plain": [
       "\"Super D''station錦糸町店\""
      ]
     },
     "execution_count": 222,
     "metadata": {},
     "output_type": "execute_result"
    }
   ],
   "source": [
    "dmm_tenpo_name.replace(\"'\", \"''\")"
   ]
  },
  {
   "cell_type": "code",
   "execution_count": 225,
   "metadata": {},
   "outputs": [
    {
     "name": "stdout",
     "output_type": "stream",
     "text": [
      "139.880066\n",
      "140.116348\n",
      "140.021362\n",
      "139.937988\n",
      "139.433853\n",
      "139.802078\n",
      "139.318695\n",
      "139.619141\n",
      "139.719803\n",
      "139.705093\n",
      "139.096313\n",
      "139.65303\n",
      "139.789978\n",
      "139.408783\n",
      "139.688934\n",
      "139.491028\n",
      "139.472565\n",
      "139.655518\n",
      "139.857559\n",
      "139.35994\n",
      "139.736267\n",
      "139.790375\n",
      "139.834\n",
      "139.717804\n",
      "139.270264\n",
      "139.816986\n",
      "139.926605\n",
      "139.444992\n",
      "139.790894\n",
      "139.382294\n",
      "139.669434\n",
      "139.446503\n",
      "139.804565\n",
      "139.791916\n",
      "136.907288\n",
      "136.907288\n",
      "139.79509\n",
      "140.586578\n",
      "139.431732\n",
      "139.698776\n",
      "139.701553\n",
      "139.318069\n",
      "139.466766\n",
      "139.436432\n",
      "139.567551\n",
      "139.622421\n",
      "139.619217\n",
      "139.671021\n",
      "139.390137\n",
      "139.204315\n",
      "139.395065\n",
      "139.579208\n",
      "139.579208\n",
      "139.680878\n",
      "139.633621\n",
      "139.184937\n",
      "139.630905\n"
     ]
    }
   ],
   "source": [
    "for i,row in serched_df.iterrows():\n",
    "    print(row['longtitude'])\n",
    "    longtitude = row['longtitude']\n",
    "    latitude = row['latitude']\n",
    "    dmm_tenpo_name = row['dmm_tenpo_name'].replace(\"'\", \"''\")\n",
    "    try:\n",
    "        cursor.execute(f\"\"\"UPDATE tenpo_master\n",
    "                    SET 経度 = {longtitude}, 緯度 = {latitude}\n",
    "                WHERE  店舗名／法人名 = '{dmm_tenpo_name}' \"\"\")\n",
    "        conn.commit()\n",
    "    except Exception as e: \n",
    "        print(\"error\", dmm_tenpo_name)\n",
    "        break\n",
    "\n"
   ]
  },
  {
   "cell_type": "code",
   "execution_count": 194,
   "metadata": {},
   "outputs": [],
   "source": [
    "cursor.execute(f'''UPDATE tenpo_master\n",
    "                SET 経度 = {longtitude}, 緯度 = {latitude}\n",
    "               WHERE  店舗名／法人名 = 'ＳＬＯＴ Ｇ８' ''')"
   ]
  },
  {
   "cell_type": "code",
   "execution_count": 171,
   "metadata": {},
   "outputs": [
    {
     "data": {
      "text/html": [
       "<div>\n",
       "<style scoped>\n",
       "    .dataframe tbody tr th:only-of-type {\n",
       "        vertical-align: middle;\n",
       "    }\n",
       "\n",
       "    .dataframe tbody tr th {\n",
       "        vertical-align: top;\n",
       "    }\n",
       "\n",
       "    .dataframe thead th {\n",
       "        text-align: right;\n",
       "    }\n",
       "</style>\n",
       "<table border=\"1\" class=\"dataframe\">\n",
       "  <thead>\n",
       "    <tr style=\"text-align: right;\">\n",
       "      <th></th>\n",
       "      <th>店舗名／法人名</th>\n",
       "      <th>都道府県</th>\n",
       "      <th>緯度</th>\n",
       "      <th>経度</th>\n",
       "      <th>住所(ホールデータ)</th>\n",
       "    </tr>\n",
       "  </thead>\n",
       "  <tbody>\n",
       "    <tr>\n",
       "      <th>0</th>\n",
       "      <td>エムズファクトリー(千葉)</td>\n",
       "      <td>千葉県</td>\n",
       "      <td>None</td>\n",
       "      <td>None</td>\n",
       "      <td></td>\n",
       "    </tr>\n",
       "  </tbody>\n",
       "</table>\n",
       "</div>"
      ],
      "text/plain": [
       "         店舗名／法人名 都道府県    緯度    経度 住所(ホールデータ)\n",
       "0  エムズファクトリー(千葉)  千葉県  None  None           "
      ]
     },
     "execution_count": 171,
     "metadata": {},
     "output_type": "execute_result"
    }
   ],
   "source": [
    "cursor.execute(f'''SELECT 店舗名／法人名, 都道府県,  緯度, 経度 , \"住所(ホールデータ)\"\n",
    "               FROM tenpo_master\n",
    "               WHERE  店舗名／法人名 = 'エムズファクトリー(千葉)' ''')\n",
    "cols = [col.name for col in cursor.description]\n",
    "df = pd.DataFrame(cursor.fetchall(),columns=cols)\n",
    "df"
   ]
  },
  {
   "cell_type": "code",
   "execution_count": null,
   "metadata": {},
   "outputs": [],
   "source": [
    "serched_df = pd.read_csv('csv/scrapinged_kanto_tenpo_name_table.csv')\n",
    "serched_df"
   ]
  },
  {
   "cell_type": "code",
   "execution_count": null,
   "metadata": {},
   "outputs": [],
   "source": [
    "\n",
    "cursor.execute('''SELECT *\n",
    "               FROM maptable\n",
    "               WHERE prefecture = '神奈川県' AND latitude is NULL ''')\n",
    "cols = [col.name for col in cursor.description]\n",
    "maptable_df = pd.DataFrame(cursor.fetchall(),columns=cols)\n",
    "display(maptable_df)\n",
    "\n",
    "\n",
    "\n"
   ]
  },
  {
   "cell_type": "code",
   "execution_count": null,
   "metadata": {},
   "outputs": [],
   "source": [
    "cursor = conn.cursor()\n",
    "cursor.execute('''SELECT COUNT(DISTINCT 店舗名)\n",
    "               FROM parlar_data\n",
    "               WHERE 都道府県 = '神奈川県' or '埼玉県' ''')\n",
    "cols = [col.name for col in cursor.description]\n",
    "maptable_df = pd.DataFrame(cursor.fetchall(),columns=cols)\n",
    "display(maptable_df)"
   ]
  },
  {
   "cell_type": "code",
   "execution_count": null,
   "metadata": {},
   "outputs": [],
   "source": [
    "cursor.execute('''SELECT * \n",
    "               FROM schedule \n",
    "               ORDER BY 取得時間 DESC\n",
    "               LIMIT 10''')\n",
    "cols = [col.name for col in cursor.description]\n",
    "schedule_df = pd.DataFrame(cursor.fetchall(),columns=cols)\n",
    "display(schedule_df)"
   ]
  }
 ],
 "metadata": {
  "kernelspec": {
   "display_name": ".venv",
   "language": "python",
   "name": "python3"
  },
  "language_info": {
   "codemirror_mode": {
    "name": "ipython",
    "version": 3
   },
   "file_extension": ".py",
   "mimetype": "text/x-python",
   "name": "python",
   "nbconvert_exporter": "python",
   "pygments_lexer": "ipython3",
   "version": "3.9.13"
  },
  "orig_nbformat": 4
 },
 "nbformat": 4,
 "nbformat_minor": 2
}
