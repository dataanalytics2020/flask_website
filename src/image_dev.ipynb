{
 "cells": [
  {
   "cell_type": "code",
   "execution_count": 1,
   "metadata": {},
   "outputs": [],
   "source": [
    "from PIL import Image, ImageDraw, ImageFont\n",
    "\n",
    "#画像の読み込み\n",
    "img = Image.open(r\"static\\img\\slomap_pledge_bg_image.png\")\n",
    "\n",
    "#フォントの読み込み\n",
    "font = ImageFont.truetype('font/MochiyPopPOne-Regular.ttf', 48)\n",
    "draw = ImageDraw.Draw(img)  # Drawオブジェクトを生成  \n",
    "# フォントの指定(メイリオ48pt)\n",
    "cell_width , cell_height = img.size\n",
    "pledge_text = \"今日も一日がんばるぞい！\"\n",
    "draw.multiline_text((cell_width/2, cell_height/2), pledge_text, fill=(0,0,0), font=font, align =\"center\",anchor=\"mm\") # 文字の描画\n",
    "w, h = img.size\n",
    "draw.rectangle((0, 0, w-1, h-1), outline = (255,255,255))\n",
    "\n",
    "#画像の保存\n",
    "img.save(r\"static\\img\\pledge\\bg_image.png\", quality=95)"
   ]
  },
  {
   "cell_type": "code",
   "execution_count": 6,
   "metadata": {},
   "outputs": [],
   "source": [
    "#サイズ変更\n",
    "img = Image.open(r\"static\\img\\slomap_pledge_bg_image.png\")\n",
    "img_resize = img.resize((960, 540))\n",
    "img_resize.save(r\"static\\img\\pledge\\bg_image.png\", quality=95)"
   ]
  },
  {
   "cell_type": "code",
   "execution_count": 2,
   "metadata": {},
   "outputs": [],
   "source": [
    "# グレースケールの画像データを作成\n",
    "im= Image.new(\"L\", (280, 100),color=(0))\n",
    "im.putalpha(0)\n",
    "im2= Image.new(\"L\", (260, 50),color=(50))\n",
    "im2.putalpha(128)\n",
    "im3 = Image.open('icon.png')\n",
    "draw = ImageDraw.Draw(im)\n",
    "font = ImageFont.truetype('font/LightNovelPOPv2.otf',19)\n",
    "syuzai_name_text = '◆あああああああああああああああ'\n",
    "#print(syuzai_name_text)\n",
    "draw = ImageDraw.Draw(im)\n",
    "font = ImageFont.truetype('font/LightNovelPOPv2.otf',19)\n",
    "\n",
    "# 画像を表示\n",
    "im.paste(im3, (-15,-14))\n",
    "im.paste(im2, (25,48))\n",
    "draw.multiline_text(\n",
    "    (150, 50),\n",
    "    f'{syuzai_name_text}',\n",
    "    font=font,\n",
    "    fill='white',\n",
    "    align='center',\n",
    "    spacing=0,\n",
    "    anchor='ma'\n",
    ")\n",
    "\n",
    "im.save('syuzai_image.png', quality=95)\n",
    "img = 'syuzai_image.png'"
   ]
  },
  {
   "cell_type": "code",
   "execution_count": null,
   "metadata": {},
   "outputs": [],
   "source": [
    "im1= Image.new(\"L\", (260, 50),color=(50))\n",
    "im2 = Image.open('icon.png')\n",
    "mask = Image.new(\"L\", im1.size, 128)\n",
    "im = Image.composite(im1, im2, mask)\n",
    "im.save('syuzai_image2.png', quality=95)"
   ]
  }
 ],
 "metadata": {
  "kernelspec": {
   "display_name": ".venv",
   "language": "python",
   "name": "python3"
  },
  "language_info": {
   "codemirror_mode": {
    "name": "ipython",
    "version": 3
   },
   "file_extension": ".py",
   "mimetype": "text/x-python",
   "name": "python",
   "nbconvert_exporter": "python",
   "pygments_lexer": "ipython3",
   "version": "3.9.13"
  }
 },
 "nbformat": 4,
 "nbformat_minor": 2
}
