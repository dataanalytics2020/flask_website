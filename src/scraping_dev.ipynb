{
 "cells": [
  {
   "cell_type": "code",
   "execution_count": 1,
   "metadata": {},
   "outputs": [
    {
     "data": {
      "text/plain": [
       "True"
      ]
     },
     "execution_count": 1,
     "metadata": {},
     "output_type": "execute_result"
    }
   ],
   "source": [
    "import re\n",
    "import requests\n",
    "from bs4 import BeautifulSoup\n",
    "import pandas as pd\n",
    "import os \n",
    "import time\n",
    "import datetime\n",
    "import sys\n",
    "from pprint import pprint\n",
    "# .envファイルから環境変数を読み込む\n",
    "from dotenv import load_dotenv\n",
    "load_dotenv()"
   ]
  },
  {
   "cell_type": "code",
   "execution_count": 2,
   "metadata": {},
   "outputs": [],
   "source": [
    "url = os.getenv('KOUYAKU_SCRAPIN_URL_1') #環境変数からURLを取得\n",
    "response = requests.get(url) #データを取得\n",
    "soup = BeautifulSoup(response.text, 'html.parser')"
   ]
  },
  {
   "cell_type": "code",
   "execution_count": 15,
   "metadata": {},
   "outputs": [
    {
     "data": {
      "text/html": [
       "<div>\n",
       "<style scoped>\n",
       "    .dataframe tbody tr th:only-of-type {\n",
       "        vertical-align: middle;\n",
       "    }\n",
       "\n",
       "    .dataframe tbody tr th {\n",
       "        vertical-align: top;\n",
       "    }\n",
       "\n",
       "    .dataframe thead th {\n",
       "        text-align: right;\n",
       "    }\n",
       "</style>\n",
       "<table border=\"1\" class=\"dataframe\">\n",
       "  <thead>\n",
       "    <tr style=\"text-align: right;\">\n",
       "      <th></th>\n",
       "      <th>title</th>\n",
       "      <th>url</th>\n",
       "    </tr>\n",
       "  </thead>\n",
       "  <tbody>\n",
       "    <tr>\n",
       "      <th>0</th>\n",
       "      <td>にほんブログ村</td>\n",
       "      <td>https://slot.blogmura.com/ranking/in?p_cid=111...</td>\n",
       "    </tr>\n",
       "  </tbody>\n",
       "</table>\n",
       "</div>"
      ],
      "text/plain": [
       "     title                                                url\n",
       "0  にほんブログ村  https://slot.blogmura.com/ranking/in?p_cid=111..."
      ]
     },
     "execution_count": 15,
     "metadata": {},
     "output_type": "execute_result"
    }
   ],
   "source": [
    "record_df"
   ]
  },
  {
   "cell_type": "code",
   "execution_count": 20,
   "metadata": {},
   "outputs": [
    {
     "data": {
      "text/html": [
       "<div>\n",
       "<style scoped>\n",
       "    .dataframe tbody tr th:only-of-type {\n",
       "        vertical-align: middle;\n",
       "    }\n",
       "\n",
       "    .dataframe tbody tr th {\n",
       "        vertical-align: top;\n",
       "    }\n",
       "\n",
       "    .dataframe thead th {\n",
       "        text-align: right;\n",
       "    }\n",
       "</style>\n",
       "<table border=\"1\" class=\"dataframe\">\n",
       "  <thead>\n",
       "    <tr style=\"text-align: right;\">\n",
       "      <th></th>\n",
       "      <th>title</th>\n",
       "      <th>url</th>\n",
       "    </tr>\n",
       "  </thead>\n",
       "  <tbody>\n",
       "    <tr>\n",
       "      <th>0</th>\n",
       "      <td>・イベント公約内容｜アツ姫</td>\n",
       "      <td>https://kumaslot.com/2023/11/18/5978/</td>\n",
       "    </tr>\n",
       "    <tr>\n",
       "      <th>0</th>\n",
       "      <td>イベント公約内容｜DMM</td>\n",
       "      <td>https://kumaslot.com/2023/11/18/5980/</td>\n",
       "    </tr>\n",
       "    <tr>\n",
       "      <th>0</th>\n",
       "      <td>イベント公約内容｜必勝本</td>\n",
       "      <td>https://kumaslot.com/2023/11/18/5982/</td>\n",
       "    </tr>\n",
       "    <tr>\n",
       "      <th>0</th>\n",
       "      <td>・イベント公約内容｜スロパチステーション</td>\n",
       "      <td>https://kumaslot.com/2023/11/18/5985/</td>\n",
       "    </tr>\n",
       "    <tr>\n",
       "      <th>0</th>\n",
       "      <td>・イベント公約内容｜ドリスロ・ドリパチ</td>\n",
       "      <td>https://kumaslot.com/2023/11/18/5987/</td>\n",
       "    </tr>\n",
       "    <tr>\n",
       "      <th>0</th>\n",
       "      <td>・イベント公約内容｜でちゃう</td>\n",
       "      <td>https://kumaslot.com/2023/11/18/5990/</td>\n",
       "    </tr>\n",
       "    <tr>\n",
       "      <th>0</th>\n",
       "      <td>・イベント公約内容｜パチエース</td>\n",
       "      <td>https://kumaslot.com/2023/11/18/5989/</td>\n",
       "    </tr>\n",
       "    <tr>\n",
       "      <th>0</th>\n",
       "      <td>・イベント公約内容｜ギャラスタ</td>\n",
       "      <td>https://kumaslot.com/2023/11/18/5993/</td>\n",
       "    </tr>\n",
       "    <tr>\n",
       "      <th>0</th>\n",
       "      <td>・イベント公約内容｜イナズマ店長</td>\n",
       "      <td>https://kumaslot.com/2023/11/18/5995/</td>\n",
       "    </tr>\n",
       "    <tr>\n",
       "      <th>0</th>\n",
       "      <td>・イベント公約内容｜パチンコ店長のホール攻略</td>\n",
       "      <td>https://kumaslot.com/2023/11/18/5997/</td>\n",
       "    </tr>\n",
       "    <tr>\n",
       "      <th>0</th>\n",
       "      <td>・イベント公約内容｜りゅーこ・あしゅら</td>\n",
       "      <td>https://kumaslot.com/2023/11/18/5999/</td>\n",
       "    </tr>\n",
       "    <tr>\n",
       "      <th>0</th>\n",
       "      <td>・イベント公約内容｜アツモリ</td>\n",
       "      <td>https://kumaslot.com/2023/11/18/6003/</td>\n",
       "    </tr>\n",
       "    <tr>\n",
       "      <th>0</th>\n",
       "      <td>・イベント公約内容｜PSエモーション</td>\n",
       "      <td>https://kumaslot.com/2023/11/18/6001/</td>\n",
       "    </tr>\n",
       "    <tr>\n",
       "      <th>0</th>\n",
       "      <td>・イベント公約内容｜サミー系</td>\n",
       "      <td>https://kumaslot.com/2023/11/18/6006/</td>\n",
       "    </tr>\n",
       "    <tr>\n",
       "      <th>0</th>\n",
       "      <td>・イベント公約内容｜ジャンバリ</td>\n",
       "      <td>https://kumaslot.com/2023/11/18/6008/</td>\n",
       "    </tr>\n",
       "    <tr>\n",
       "      <th>0</th>\n",
       "      <td>・イベント公約内容｜じゃんじゃん</td>\n",
       "      <td>https://kumaslot.com/2023/11/18/6011/</td>\n",
       "    </tr>\n",
       "    <tr>\n",
       "      <th>0</th>\n",
       "      <td>・イベント公約内容｜WIN6GAME</td>\n",
       "      <td>https://kumaslot.com/2023/11/18/6013/</td>\n",
       "    </tr>\n",
       "    <tr>\n",
       "      <th>0</th>\n",
       "      <td>・イベント公約内容｜公約ありの演者来店</td>\n",
       "      <td>https://kumaslot.com/2023/11/18/6015/</td>\n",
       "    </tr>\n",
       "  </tbody>\n",
       "</table>\n",
       "</div>"
      ],
      "text/plain": [
       "                    title                                    url\n",
       "0           ・イベント公約内容｜アツ姫  https://kumaslot.com/2023/11/18/5978/\n",
       "0            イベント公約内容｜DMM  https://kumaslot.com/2023/11/18/5980/\n",
       "0            イベント公約内容｜必勝本  https://kumaslot.com/2023/11/18/5982/\n",
       "0    ・イベント公約内容｜スロパチステーション  https://kumaslot.com/2023/11/18/5985/\n",
       "0     ・イベント公約内容｜ドリスロ・ドリパチ  https://kumaslot.com/2023/11/18/5987/\n",
       "0          ・イベント公約内容｜でちゃう  https://kumaslot.com/2023/11/18/5990/\n",
       "0         ・イベント公約内容｜パチエース  https://kumaslot.com/2023/11/18/5989/\n",
       "0         ・イベント公約内容｜ギャラスタ  https://kumaslot.com/2023/11/18/5993/\n",
       "0        ・イベント公約内容｜イナズマ店長  https://kumaslot.com/2023/11/18/5995/\n",
       "0  ・イベント公約内容｜パチンコ店長のホール攻略  https://kumaslot.com/2023/11/18/5997/\n",
       "0     ・イベント公約内容｜りゅーこ・あしゅら  https://kumaslot.com/2023/11/18/5999/\n",
       "0          ・イベント公約内容｜アツモリ  https://kumaslot.com/2023/11/18/6003/\n",
       "0      ・イベント公約内容｜PSエモーション  https://kumaslot.com/2023/11/18/6001/\n",
       "0          ・イベント公約内容｜サミー系  https://kumaslot.com/2023/11/18/6006/\n",
       "0         ・イベント公約内容｜ジャンバリ  https://kumaslot.com/2023/11/18/6008/\n",
       "0        ・イベント公約内容｜じゃんじゃん  https://kumaslot.com/2023/11/18/6011/\n",
       "0      ・イベント公約内容｜WIN6GAME  https://kumaslot.com/2023/11/18/6013/\n",
       "0     ・イベント公約内容｜公約ありの演者来店  https://kumaslot.com/2023/11/18/6015/"
      ]
     },
     "execution_count": 20,
     "metadata": {},
     "output_type": "execute_result"
    }
   ],
   "source": [
    "main_content = soup.find(class_=\"content\")\n",
    "#aタグの中のhref属性を取得\n",
    "#kiji_url_list = [kiji.find(\"a\").get(\"href\") for kiji in kiji_list]\n",
    "main_content_df = pd.DataFrame(index=[], columns=['title', 'url', ])\n",
    "for p_tag in main_content.find_all(\"a\"):\n",
    "    title = p_tag.text.replace('【静岡県】', '')\n",
    "    url = p_tag.get(\"href\")\n",
    "    record_df = pd.DataFrame([[title, url]], columns=['title', 'url' ])\n",
    "    main_content_df = pd.concat([main_content_df, record_df], axis=0)\n",
    "main_content_df = main_content_df[main_content_df['title'].str.contains('｜')]\n",
    "main_content_df"
   ]
  },
  {
   "cell_type": "code",
   "execution_count": 36,
   "metadata": {},
   "outputs": [
    {
     "data": {
      "text/plain": [
       "<h3 class=\"wp-block-heading\" id=\"outline_1__1_1\">Ace OVER</h3>"
      ]
     },
     "execution_count": 36,
     "metadata": {},
     "output_type": "execute_result"
    }
   ],
   "source": [
    "soup.find('h3')"
   ]
  },
  {
   "cell_type": "code",
   "execution_count": null,
   "metadata": {},
   "outputs": [],
   "source": [
    "print(block_soup)"
   ]
  },
  {
   "cell_type": "code",
   "execution_count": 76,
   "metadata": {},
   "outputs": [
    {
     "data": {
      "text/plain": [
       "<p>　ノーマルタイプが分岐営業</p>"
      ]
     },
     "execution_count": 76,
     "metadata": {},
     "output_type": "execute_result"
    }
   ],
   "source": [
    "kouyaku_list[0].next_sibling.next_sibling"
   ]
  },
  {
   "cell_type": "code",
   "execution_count": 89,
   "metadata": {},
   "outputs": [
    {
     "data": {
      "text/plain": [
       "array(['アツ姫', 'DMM', '必勝本', 'スロパチステーション', 'でちゃう', 'パチエース', 'ギャラスタ',\n",
       "       'イナズマ店長', 'パチンコ店長のホール攻略', 'りゅーこ', 'あしゅら', 'アツモリ', 'サミー系', 'ジャンバリ',\n",
       "       'じゃんじゃん', 'WIN6GAME', '公約ありの演者来店', '関連する記事', '管理人プロフィール', 'ブログ内検索'],\n",
       "      dtype=object)"
      ]
     },
     "execution_count": 89,
     "metadata": {},
     "output_type": "execute_result"
    }
   ],
   "source": [
    "scraping_df = pd.DataFrame(index=[], columns=['media_name', 'syuzai_name', 'pledge_text', ])\n",
    "for h2_text in str(soup).split('<h2')[1:]:\n",
    "    h2_text = '<h2' + h2_text\n",
    "    #print(h2_text)\n",
    "    block_soup = BeautifulSoup(h2_text, 'html.parser')\n",
    "    media_name = block_soup.find('h2').text\n",
    "    #print(media_name)\n",
    "    h3_tag_list = block_soup.find_all('h3')\n",
    "    for h3_tag in h3_tag_list:\n",
    "        #print(h3_tag.text)\n",
    "        try:\n",
    "            syuzai_name = h3_tag.text\n",
    "        except:\n",
    "            syuzai_name = 'エラー'\n",
    "        try:\n",
    "            pledge_text = h3_tag.next_sibling.next_sibling.text.replace(' ', '').replace('　', '')\n",
    "            #print(pledge_text)\n",
    "        except:\n",
    "            pledge_text = 'エラー'\n",
    "        try:\n",
    "            record_df = pd.DataFrame([[media_name, syuzai_name, pledge_text]], columns=['media_name', 'syuzai_name', 'pledge_text' ])\n",
    "            scraping_df = pd.concat([scraping_df, record_df], axis=0)\n",
    "        except:\n",
    "            pass\n",
    "\n",
    "    #print(block_soup)\n",
    "    #break\n",
    "scraping_df['media_name'].unique()"
   ]
  },
  {
   "cell_type": "code",
   "execution_count": 90,
   "metadata": {},
   "outputs": [],
   "source": [
    "exclude_list = ['関連する記事', '管理人プロフィール', 'ブログ内検索']\n",
    "exclude_list\n",
    "\n",
    "scraping_df = scraping_df[~scraping_df['media_name'].isin(exclude_list)]\n",
    "scraping_df.to_csv('csv/pre_insert_scraping_df.csv', index=False)"
   ]
  },
  {
   "cell_type": "code",
   "execution_count": null,
   "metadata": {},
   "outputs": [],
   "source": [
    "kouyaku_df_type_1 = pd.DataFrame(index=[],columns=['media_name' ,'syuzai_name', 'image_url', 'kouyaku_text'])\n",
    "error_media_name_and_syuzai_name_dict = {}\n",
    "for kiji_url in  kouyaku_block:\n",
    "    #time.sleep(1)\n",
    "    response = requests.get(kiji_url) #データを取得\n",
    "    groupby_media_soup = BeautifulSoup(response.text, 'html.parser')\n",
    "    #h2タグからメディア名を取得\n",
    "    for h2_tag in groupby_media_soup.find_all(\"h2\"):\n",
    "        if 'イベント公約まとめ' in h2_tag.text:\n",
    "            print(h2_tag.text)\n",
    "            media_name = h2_tag.text.replace('のイベント公約まとめ', '')\n",
    "    #クラス名のないdivタグを取得\n",
    "    for div_elem in groupby_media_soup.find_all('div'):\n",
    "        #print(div_elem.get('class'))\n",
    "        if div_elem.get('class') == None and div_elem.find('h3') != None:\n",
    "            #print(div_elem.text)\n",
    "            #h3要素を取得\n",
    "            #print(div_elem.h3.next_sibling)\n",
    "            syuzai_name = div_elem.h3.text.replace('の公約', '')\n",
    "            try:\n",
    "                image_url = div_elem.h3.next_sibling.img.get('src')\n",
    "                kouyaku_text = div_elem.h3.next_sibling.next_sibling.text.replace('公約　', '')\n",
    "                kouyaku_df_type_1 = pd.concat([kouyaku_df_type_1, pd.DataFrame([[media_name,syuzai_name, image_url, kouyaku_text]], columns=['media_name' ,'syuzai_name', 'image_url', 'kouyaku_text'])])\n",
    "            except:\n",
    "                try:\n",
    "                    image_url = ''\n",
    "                    kouyaku_text = div_elem.h3.next_sibling.text.replace('公約　', '')\n",
    "                    kouyaku_df_type_1 = pd.concat([kouyaku_df_type_1, pd.DataFrame([[media_name,syuzai_name, image_url, kouyaku_text]], columns=['media_name' ,'syuzai_name', 'image_url', 'kouyaku_text'])])\n",
    "                except Exception as e:\n",
    "                    error_media_name_and_syuzai_name_dict[media_name + syuzai_name] = e\n",
    "                    continue\n",
    "            #print(syuzai_name,kouyaku_text)\n",
    "            \n",
    "\n",
    "    #break"
   ]
  },
  {
   "cell_type": "code",
   "execution_count": null,
   "metadata": {},
   "outputs": [],
   "source": [
    "kouyaku_df_type_1 = pd.DataFrame(index=[],columns=['media_name' ,'syuzai_name', 'image_url', 'kouyaku_text'])\n",
    "error_media_name_and_syuzai_name_dict = {}\n",
    "for kiji_url in  kouyaku_block:\n",
    "    #time.sleep(1)\n",
    "    response = requests.get(kiji_url) #データを取得\n",
    "    groupby_media_soup = BeautifulSoup(response.text, 'html.parser')\n",
    "    #h2タグからメディア名を取得\n",
    "    for h2_tag in groupby_media_soup.find_all(\"h2\"):\n",
    "        if 'イベント公約まとめ' in h2_tag.text:\n",
    "            print(h2_tag.text)\n",
    "            media_name = h2_tag.text.replace('のイベント公約まとめ', '')\n",
    "    #クラス名のないdivタグを取得\n",
    "    for div_elem in groupby_media_soup.find_all('div'):\n",
    "        #print(div_elem.get('class'))\n",
    "        if div_elem.get('class') == None and div_elem.find('h3') != None:\n",
    "            #print(div_elem.text)\n",
    "            #h3要素を取得\n",
    "            #print(div_elem.h3.next_sibling)\n",
    "            syuzai_name = div_elem.h3.text.replace('の公約', '')\n",
    "            try:\n",
    "                image_url = div_elem.h3.next_sibling.img.get('src')\n",
    "                kouyaku_text = div_elem.h3.next_sibling.next_sibling.text.replace('公約　', '')\n",
    "                kouyaku_df_type_1 = pd.concat([kouyaku_df_type_1, pd.DataFrame([[media_name,syuzai_name, image_url, kouyaku_text]], columns=['media_name' ,'syuzai_name', 'image_url', 'kouyaku_text'])])\n",
    "            except:\n",
    "                try:\n",
    "                    image_url = ''\n",
    "                    kouyaku_text = div_elem.h3.next_sibling.text.replace('公約　', '')\n",
    "                    kouyaku_df_type_1 = pd.concat([kouyaku_df_type_1, pd.DataFrame([[media_name,syuzai_name, image_url, kouyaku_text]], columns=['media_name' ,'syuzai_name', 'image_url', 'kouyaku_text'])])\n",
    "                except Exception as e:\n",
    "                    error_media_name_and_syuzai_name_dict[media_name + syuzai_name] = e\n",
    "                    continue\n",
    "            #print(syuzai_name,kouyaku_text)\n",
    "            \n",
    "\n",
    "    #break"
   ]
  },
  {
   "cell_type": "code",
   "execution_count": 95,
   "metadata": {},
   "outputs": [],
   "source": [
    "read_csv_df = pd.read_csv('csv\\pre_insert_scraping_df.csv')\n",
    "read_csv_df = read_csv_df[['syuzai_name', 'media_name', 'pledge_text']]\n",
    "#作成時間のカラムを追加\n",
    "read_csv_df['created_at'] = datetime.datetime.now().strftime('%Y-%m-%d %H:%M:%S')\n",
    "read_csv_df['updated_at'] = datetime.datetime.now().strftime('%Y-%m-%d %H:%M:%S')\n",
    "#RANKカラムを追加\n",
    "read_csv_df['rank'] = None\n",
    "#no_pledge_visit_countカラムを追加\n",
    "read_csv_df['no_pledge_visit_count'] = 0\n",
    "read_csv_df.to_csv('csv\\dbeaver_csv_insert_scraping_df.csv', index=False)"
   ]
  }
 ],
 "metadata": {
  "kernelspec": {
   "display_name": ".venv",
   "language": "python",
   "name": "python3"
  },
  "language_info": {
   "codemirror_mode": {
    "name": "ipython",
    "version": 3
   },
   "file_extension": ".py",
   "mimetype": "text/x-python",
   "name": "python",
   "nbconvert_exporter": "python",
   "pygments_lexer": "ipython3",
   "version": "3.9.13"
  }
 },
 "nbformat": 4,
 "nbformat_minor": 2
}
